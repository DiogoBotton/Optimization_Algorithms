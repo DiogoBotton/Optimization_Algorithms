{
 "cells": [
  {
   "cell_type": "markdown",
   "id": "65b4887b",
   "metadata": {},
   "source": [
    "## Contexto\n",
    "\n",
    "Em uma transportadora, temos um problema onde temos produtos com características de nome, tamanho (em metros cúbicos) e valor, assim como, temos um caminhão com um limite de tamanho. Precisamos levar o máximo de produtos que conseguirmos, porém, é necessário priorizar o valor dos produtos, ou seja, os produtos mais caros que consequentemente darão mais lucro deverão estar no caminhão sem ultrapassar o valor máximo de tamanho.\n",
    "\n",
    "Para isso, é necessário criar um algoritmo genético onde a solução tem como objetivo **maximizar o valor de lucro** nesse transporte para a transportadora."
   ]
  },
  {
   "cell_type": "markdown",
   "id": "9994bb9c",
   "metadata": {},
   "source": [
    "### Classe produtos\n",
    "\n",
    "Primeiramente, iremos declarar a classe produto."
   ]
  },
  {
   "cell_type": "code",
   "execution_count": 1,
   "id": "a377649f",
   "metadata": {},
   "outputs": [],
   "source": [
    "class Produto():\n",
    "    def __init__(self, nome, espaco, valor):\n",
    "        self.nome = nome\n",
    "        self.espaco = espaco\n",
    "        self.valor = valor"
   ]
  },
  {
   "cell_type": "code",
   "execution_count": 4,
   "id": "4314ad45",
   "metadata": {},
   "outputs": [
    {
     "data": {
      "text/plain": [
       "['Geladeira Dako',\n",
       " 'Iphone 6',\n",
       " \"TV 55' \",\n",
       " \"TV 50' \",\n",
       " \"TV 42' \",\n",
       " 'Notebook Dell',\n",
       " 'Ventilador Panasonic',\n",
       " 'Microondas Electrolux',\n",
       " 'Microondas LG',\n",
       " 'Microondas Panasonic',\n",
       " 'Geladeira Brastemp',\n",
       " 'Geladeira Consul',\n",
       " 'Notebook Lenovo',\n",
       " 'Notebook Asus']"
      ]
     },
     "execution_count": 4,
     "metadata": {},
     "output_type": "execute_result"
    }
   ],
   "source": [
    "lista_produtos = []\n",
    "\n",
    "lista_produtos.append(Produto(\"Geladeira Dako\", 0.751, 999.90))\n",
    "lista_produtos.append(Produto(\"Iphone 6\", 0.0000899, 2911.12))\n",
    "lista_produtos.append(Produto(\"TV 55' \", 0.400, 4346.99))\n",
    "lista_produtos.append(Produto(\"TV 50' \", 0.290, 3999.90))\n",
    "lista_produtos.append(Produto(\"TV 42' \", 0.200, 2999.00))\n",
    "lista_produtos.append(Produto(\"Notebook Dell\", 0.00350, 2499.90))\n",
    "lista_produtos.append(Produto(\"Ventilador Panasonic\", 0.496, 199.90))\n",
    "lista_produtos.append(Produto(\"Microondas Electrolux\", 0.0424, 308.66))\n",
    "lista_produtos.append(Produto(\"Microondas LG\", 0.0544, 429.90))\n",
    "lista_produtos.append(Produto(\"Microondas Panasonic\", 0.0319, 299.29))\n",
    "lista_produtos.append(Produto(\"Geladeira Brastemp\", 0.635, 849.00))\n",
    "lista_produtos.append(Produto(\"Geladeira Consul\", 0.870, 1199.89))\n",
    "lista_produtos.append(Produto(\"Notebook Lenovo\", 0.498, 1999.90))\n",
    "lista_produtos.append(Produto(\"Notebook Asus\", 0.527, 3999.00))\n",
    "\n",
    "[p.nome for p in lista_produtos]"
   ]
  },
  {
   "cell_type": "markdown",
   "id": "1c04b4ce",
   "metadata": {},
   "source": [
    "### Classe indivíduo\n",
    "\n",
    "A primeira fase de um algoritmo genético é **gerar a população inicial**. A população é caracterizada por um **conjunto de indivíduos**.\n",
    "\n",
    "geracao=0 significa que quando um indivíduo for criado, ele inicialmente não evoluiu nada."
   ]
  },
  {
   "cell_type": "code",
   "execution_count": null,
   "id": "5bdc2f62",
   "metadata": {},
   "outputs": [],
   "source": [
    "from random import random\n",
    "\n",
    "class Individuo():\n",
    "    def __init__(self, espacos, valores, limite_espacos, geracao=0):\n",
    "        self.espacos = espacos # Quais são os espaços ocupados dos produtos que serão carregados (em m³)\n",
    "        self.valores = valores # Valores em reais\n",
    "        self.limite_espacos = limite_espacos # Limite do espaço (caminhão)\n",
    "        self.nota_avaliacao = 0 # Cada indivíduo terá uma nota que definirá se ele é bom ou ruim comparado aos outros\n",
    "        self.geracao = geracao\n",
    "        self.cromossomo = [] # Soluções do indivíduo\n",
    "        \n",
    "        # Inicializando a solução aleatóriamente\n",
    "        for i in range(len(espacos)):\n",
    "            if random() < 0.5:\n",
    "                self.cromossomo.append('0')\n",
    "            else:\n",
    "                self.cromossomo.append('1')"
   ]
  }
 ],
 "metadata": {
  "kernelspec": {
   "display_name": "ai_env",
   "language": "python",
   "name": "python3"
  },
  "language_info": {
   "codemirror_mode": {
    "name": "ipython",
    "version": 3
   },
   "file_extension": ".py",
   "mimetype": "text/x-python",
   "name": "python",
   "nbconvert_exporter": "python",
   "pygments_lexer": "ipython3",
   "version": "3.10.17"
  }
 },
 "nbformat": 4,
 "nbformat_minor": 5
}

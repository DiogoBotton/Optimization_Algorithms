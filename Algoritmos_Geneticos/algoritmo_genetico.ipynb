{
 "cells": [
  {
   "cell_type": "markdown",
   "id": "65b4887b",
   "metadata": {},
   "source": [
    "## Contexto\n",
    "\n",
    "Em uma transportadora, temos um problema onde temos produtos com características de nome, tamanho (em metros cúbicos) e valor, assim como, temos um caminhão com um limite de tamanho. Precisamos levar o máximo de produtos que conseguirmos, porém, é necessário priorizar o valor dos produtos, ou seja, os produtos mais caros que consequentemente darão mais lucro deverão estar no caminhão sem ultrapassar o valor máximo de tamanho.\n",
    "\n",
    "Para isso, é necessário criar um algoritmo genético onde a solução tem como objetivo **maximizar o valor de lucro** nesse transporte para a transportadora."
   ]
  },
  {
   "cell_type": "markdown",
   "id": "9994bb9c",
   "metadata": {},
   "source": [
    "### Classe produtos\n",
    "\n",
    "Primeiramente, iremos declarar a classe produto."
   ]
  },
  {
   "cell_type": "code",
   "execution_count": 1,
   "id": "a377649f",
   "metadata": {},
   "outputs": [],
   "source": [
    "class Produto():\n",
    "    def __init__(self, nome, espaco, valor):\n",
    "        self.nome = nome\n",
    "        self.espaco = espaco\n",
    "        self.valor = valor"
   ]
  },
  {
   "cell_type": "code",
   "execution_count": 2,
   "id": "4314ad45",
   "metadata": {},
   "outputs": [
    {
     "data": {
      "text/plain": [
       "['Geladeira Dako',\n",
       " 'Iphone 6',\n",
       " \"TV 55' \",\n",
       " \"TV 50' \",\n",
       " \"TV 42' \",\n",
       " 'Notebook Dell',\n",
       " 'Ventilador Panasonic',\n",
       " 'Microondas Electrolux',\n",
       " 'Microondas LG',\n",
       " 'Microondas Panasonic',\n",
       " 'Geladeira Brastemp',\n",
       " 'Geladeira Consul',\n",
       " 'Notebook Lenovo',\n",
       " 'Notebook Asus']"
      ]
     },
     "execution_count": 2,
     "metadata": {},
     "output_type": "execute_result"
    }
   ],
   "source": [
    "lista_produtos: list[Produto] = []\n",
    "\n",
    "lista_produtos.append(Produto(\"Geladeira Dako\", 0.751, 999.90))\n",
    "lista_produtos.append(Produto(\"Iphone 6\", 0.0000899, 2911.12))\n",
    "lista_produtos.append(Produto(\"TV 55' \", 0.400, 4346.99))\n",
    "lista_produtos.append(Produto(\"TV 50' \", 0.290, 3999.90))\n",
    "lista_produtos.append(Produto(\"TV 42' \", 0.200, 2999.00))\n",
    "lista_produtos.append(Produto(\"Notebook Dell\", 0.00350, 2499.90))\n",
    "lista_produtos.append(Produto(\"Ventilador Panasonic\", 0.496, 199.90))\n",
    "lista_produtos.append(Produto(\"Microondas Electrolux\", 0.0424, 308.66))\n",
    "lista_produtos.append(Produto(\"Microondas LG\", 0.0544, 429.90))\n",
    "lista_produtos.append(Produto(\"Microondas Panasonic\", 0.0319, 299.29))\n",
    "lista_produtos.append(Produto(\"Geladeira Brastemp\", 0.635, 849.00))\n",
    "lista_produtos.append(Produto(\"Geladeira Consul\", 0.870, 1199.89))\n",
    "lista_produtos.append(Produto(\"Notebook Lenovo\", 0.498, 1999.90))\n",
    "lista_produtos.append(Produto(\"Notebook Asus\", 0.527, 3999.00))\n",
    "\n",
    "[p.nome for p in lista_produtos]"
   ]
  },
  {
   "cell_type": "markdown",
   "id": "1c04b4ce",
   "metadata": {},
   "source": [
    "### Classe indivíduo\n",
    "\n",
    "A primeira fase de um algoritmo genético é **gerar a população inicial**. A população é caracterizada por um **conjunto de indivíduos**.\n",
    "\n",
    "geracao=0 significa que quando um indivíduo for criado, ele inicialmente não evoluiu nada.\n",
    "\n",
    "Iremos aleatorizar o cromossomo (solução do indivíduo) na inicialização da classe como 0 ou 1, pois existem 2 tipos de estados de um produto, *irá levar* ou *não irá levar* o produto no caminhão.\n",
    "\n",
    "Para o nosso caso, a *nota_avaliacao* será o somatório dos valores (R$) da carga."
   ]
  },
  {
   "cell_type": "code",
   "execution_count": 3,
   "id": "5bdc2f62",
   "metadata": {},
   "outputs": [],
   "source": [
    "from random import random # A função random por padrão retorna um número de 0 a 1\n",
    "\n",
    "class Individuo():\n",
    "    def __init__(self, espacos, valores, limite_espacos, geracao=0):\n",
    "        self.espacos = espacos # Os espaços de todos os produtos que podem ser carregados (em m³)\n",
    "        self.valores = valores # Valores em reais\n",
    "        self.limite_espacos = limite_espacos # Limite do espaço (caminhão)\n",
    "        self.nota_avaliacao = 0 # Cada indivíduo terá uma nota que definirá se ele é bom ou ruim comparado aos outros (R$)\n",
    "        self.espaco_usado = 0\n",
    "        self.geracao = geracao # Geração atual do indivíduo\n",
    "        self.cromossomo = [] # Solução do indivíduo, cada um dos elementos do array é chamado de Gene\n",
    "        \n",
    "        # Inicializando a solução aleatóriamente\n",
    "        for i in range(len(espacos)):\n",
    "            if random() < 0.5: # 50% de chance de inicializar com zero ou um\n",
    "                self.cromossomo.append('0')\n",
    "            else:\n",
    "                self.cromossomo.append('1')\n",
    "    \n",
    "    # Função de avaliação/aptidão (Fitness)\n",
    "    def avaliacao(self):\n",
    "        nota = 0\n",
    "        soma_espacos = 0\n",
    "        \n",
    "        # Soma os espaços e os valores dos produtos\n",
    "        for idx, i in enumerate(self.cromossomo):\n",
    "            if i == \"1\":\n",
    "                soma_espacos += self.espacos[idx]\n",
    "                nota += self.valores[idx]\n",
    "                \n",
    "        # Caso a nota for maior que o limite, rebaixa a nota, pois não é uma boa solução\n",
    "        if soma_espacos > self.limite_espacos:\n",
    "            nota = 1 # Por padrão é utilizado o valor 1 para rebaixar a nota em algoritmos genéticos\n",
    "\n",
    "        self.nota_avaliacao = nota\n",
    "        self.espaco_usado = soma_espacos\n",
    "    \n",
    "    # Crossover\n",
    "    def cruzamento(self, outro_individuo):\n",
    "        # Adquire o ponto de corte\n",
    "        corte = round(random() * len(self.cromossomo))\n",
    "        \n",
    "        # Filho 1 terá no inicio os genes do outro_individuo, e no final os genes do próprio indivíduo\n",
    "        filho1 = outro_individuo.cromossomo[0:corte] + self.cromossomo[corte::] # :: adquire do corte até o final do array\n",
    "        \n",
    "        # Com o filho 2, será basicamente a mesma coisa, só mudou a ordem\n",
    "        filho2 = self.cromossomo[0:corte] + outro_individuo.cromossomo[corte::]\n",
    "        \n",
    "        filhos = [\n",
    "            Individuo(self.espacos, self.valores, self.limite_espacos, self.geracao + 1),\n",
    "            Individuo(self.espacos, self.valores, self.limite_espacos, self.geracao + 1),\n",
    "        ]\n",
    "        \n",
    "        filhos[0].cromossomo = filho1\n",
    "        filhos[1].cromossomo = filho2\n",
    "        \n",
    "        return filhos\n",
    "    \n",
    "    # Para cada gene, será gerado um número aleatório e caso ele for menor que a taxa_mutacao irá alterar aquele gene específico\n",
    "    def mutacao(self, taxa_mutacao):\n",
    "        #print('Antes ', self.cromossomo)\n",
    "        \n",
    "        for idx, i in enumerate(self.cromossomo):\n",
    "            if random() < taxa_mutacao:\n",
    "                if self.cromossomo[idx] == \"1\":\n",
    "                    self.cromossomo[idx] = \"0\"\n",
    "                else:\n",
    "                    self.cromossomo[idx] = \"1\"\n",
    "        \n",
    "        #print('Depois', self.cromossomo)\n",
    "        \n",
    "        return self"
   ]
  },
  {
   "cell_type": "code",
   "execution_count": 4,
   "id": "f5bd2233",
   "metadata": {},
   "outputs": [],
   "source": [
    "import pandas as pd\n",
    "\n",
    "espacos = []\n",
    "valores = []\n",
    "nomes = []\n",
    "\n",
    "limite = 3\n",
    "\n",
    "for p in lista_produtos:\n",
    "    espacos.append(p.espaco)\n",
    "    valores.append(p.valor)\n",
    "    nomes.append(p.nome)"
   ]
  },
  {
   "cell_type": "code",
   "execution_count": 5,
   "id": "a968b84c",
   "metadata": {},
   "outputs": [
    {
     "data": {
      "text/html": [
       "<div>\n",
       "<style scoped>\n",
       "    .dataframe tbody tr th:only-of-type {\n",
       "        vertical-align: middle;\n",
       "    }\n",
       "\n",
       "    .dataframe tbody tr th {\n",
       "        vertical-align: top;\n",
       "    }\n",
       "\n",
       "    .dataframe thead th {\n",
       "        text-align: right;\n",
       "    }\n",
       "</style>\n",
       "<table border=\"1\" class=\"dataframe\">\n",
       "  <thead>\n",
       "    <tr style=\"text-align: right;\">\n",
       "      <th></th>\n",
       "      <th>Nome</th>\n",
       "      <th>Espaço</th>\n",
       "      <th>Valor</th>\n",
       "    </tr>\n",
       "  </thead>\n",
       "  <tbody>\n",
       "    <tr>\n",
       "      <th>0</th>\n",
       "      <td>Geladeira Dako</td>\n",
       "      <td>0.75100</td>\n",
       "      <td>999.90</td>\n",
       "    </tr>\n",
       "    <tr>\n",
       "      <th>1</th>\n",
       "      <td>Iphone 6</td>\n",
       "      <td>0.00009</td>\n",
       "      <td>2911.12</td>\n",
       "    </tr>\n",
       "    <tr>\n",
       "      <th>2</th>\n",
       "      <td>TV 55'</td>\n",
       "      <td>0.40000</td>\n",
       "      <td>4346.99</td>\n",
       "    </tr>\n",
       "    <tr>\n",
       "      <th>3</th>\n",
       "      <td>TV 50'</td>\n",
       "      <td>0.29000</td>\n",
       "      <td>3999.90</td>\n",
       "    </tr>\n",
       "    <tr>\n",
       "      <th>4</th>\n",
       "      <td>TV 42'</td>\n",
       "      <td>0.20000</td>\n",
       "      <td>2999.00</td>\n",
       "    </tr>\n",
       "  </tbody>\n",
       "</table>\n",
       "</div>"
      ],
      "text/plain": [
       "             Nome   Espaço    Valor\n",
       "0  Geladeira Dako  0.75100   999.90\n",
       "1        Iphone 6  0.00009  2911.12\n",
       "2         TV 55'   0.40000  4346.99\n",
       "3         TV 50'   0.29000  3999.90\n",
       "4         TV 42'   0.20000  2999.00"
      ]
     },
     "execution_count": 5,
     "metadata": {},
     "output_type": "execute_result"
    }
   ],
   "source": [
    "df = pd.DataFrame({\n",
    "    'Nome': nomes,\n",
    "    'Espaço': espacos,\n",
    "    'Valor':valores,\n",
    "})\n",
    "\n",
    "df.head()"
   ]
  },
  {
   "cell_type": "markdown",
   "id": "e5e17766",
   "metadata": {},
   "source": [
    "**Declarando e exibindo uma classe indivíduo de exemplo**\n",
    "\n",
    "Iremos criar o indivíduo com todos os espaços e valores disponíveis, o cromossomo (solução) será inicializada aleatóriamente e a geração será definida como 0 (zero) por padrão."
   ]
  },
  {
   "cell_type": "code",
   "execution_count": 6,
   "id": "51d95a00",
   "metadata": {},
   "outputs": [],
   "source": [
    "individuo1 = Individuo(espacos, valores, limite)"
   ]
  },
  {
   "cell_type": "code",
   "execution_count": 7,
   "id": "742a62c6",
   "metadata": {},
   "outputs": [
    {
     "name": "stdout",
     "output_type": "stream",
     "text": [
      "Espaços =  [0.751, 8.99e-05, 0.4, 0.29, 0.2, 0.0035, 0.496, 0.0424, 0.0544, 0.0319, 0.635, 0.87, 0.498, 0.527]\n",
      "Valores =  [999.9, 2911.12, 4346.99, 3999.9, 2999.0, 2499.9, 199.9, 308.66, 429.9, 299.29, 849.0, 1199.89, 1999.9, 3999.0]\n",
      "Cromossomo (resultado) =  ['0', '1', '0', '1', '0', '0', '0', '1', '1', '0', '1', '1', '0', '1']\n",
      "\n",
      "Componentes da carga\n",
      "Nome: Iphone 6 R$ 2911.12\n",
      "Nome: TV 50'  R$ 3999.9\n",
      "Nome: Microondas Electrolux R$ 308.66\n",
      "Nome: Microondas LG R$ 429.9\n",
      "Nome: Geladeira Brastemp R$ 849.0\n",
      "Nome: Geladeira Consul R$ 1199.89\n",
      "Nome: Notebook Asus R$ 3999.0\n"
     ]
    }
   ],
   "source": [
    "print('Espaços = ', str(individuo1.espacos))\n",
    "print('Valores = ', str(individuo1.valores))\n",
    "print('Cromossomo (resultado) = ', str(individuo1.cromossomo))\n",
    "\n",
    "print('\\nComponentes da carga')\n",
    "for i in range(len(lista_produtos)):\n",
    "    if individuo1.cromossomo[i] == \"1\":\n",
    "        print(f'Nome: {lista_produtos[i].nome} R$ {lista_produtos[i].valor}')\n",
    "\n",
    "# Também é possível da forma abaixo:\n",
    "# for idx, i in enumerate(individuo1.cromossomo):\n",
    "#     if i == \"1\":\n",
    "#         print(lista_produtos[idx].nome)"
   ]
  },
  {
   "cell_type": "markdown",
   "id": "89f21400",
   "metadata": {},
   "source": [
    "**Realizando a avaliação do indivíduo de exemplo**"
   ]
  },
  {
   "cell_type": "code",
   "execution_count": 8,
   "id": "cf164c53",
   "metadata": {},
   "outputs": [
    {
     "name": "stdout",
     "output_type": "stream",
     "text": [
      "Nota (R$): 13697.47 \n",
      "Espaço usado: 2.4189 m³\n"
     ]
    }
   ],
   "source": [
    "# Realiza os cálculos para a avaliação\n",
    "individuo1.avaliacao()\n",
    "\n",
    "print(f'Nota (R$): {individuo1.nota_avaliacao} \\nEspaço usado: {individuo1.espaco_usado:.4f} m³')"
   ]
  },
  {
   "cell_type": "markdown",
   "id": "50329142",
   "metadata": {},
   "source": [
    "### Crossover/reprodução\n",
    "\n",
    "Aqui será realizado o cruzamento entre 2 indivíduos.\n",
    "\n",
    "Com a função de cruzamento criada na classe de Indivíduo, basta criarmos mais um indivíduo e realizar o cruzamento como no exemplo abaixo:"
   ]
  },
  {
   "cell_type": "code",
   "execution_count": 9,
   "id": "a4db89ca",
   "metadata": {},
   "outputs": [],
   "source": [
    "individuo2 = Individuo(espacos, valores, limite)"
   ]
  },
  {
   "cell_type": "code",
   "execution_count": 10,
   "id": "28311071",
   "metadata": {},
   "outputs": [],
   "source": [
    "filhos = individuo1.cruzamento(individuo2)"
   ]
  },
  {
   "cell_type": "code",
   "execution_count": 11,
   "id": "8b205b6b",
   "metadata": {},
   "outputs": [
    {
     "data": {
      "text/plain": [
       "['1', '1', '1', '1', '0', '1', '0', '1', '1', '0', '1', '1', '0', '1']"
      ]
     },
     "execution_count": 11,
     "metadata": {},
     "output_type": "execute_result"
    }
   ],
   "source": [
    "filhos[0].cromossomo"
   ]
  },
  {
   "cell_type": "markdown",
   "id": "0ed96451",
   "metadata": {},
   "source": [
    "### Mutação\n",
    "\n",
    "A mutação muda aleatoriamente os **genes** de um cromossomo pertencente a um indivíduo com uma taxa de probabilidade bem baixa."
   ]
  },
  {
   "cell_type": "code",
   "execution_count": 12,
   "id": "7bb28873",
   "metadata": {},
   "outputs": [
    {
     "data": {
      "text/plain": [
       "[<__main__.Individuo at 0x7f1904864520>,\n",
       " <__main__.Individuo at 0x7f19048669b0>]"
      ]
     },
     "execution_count": 12,
     "metadata": {},
     "output_type": "execute_result"
    }
   ],
   "source": [
    "[filho.mutacao(0.05) for filho in filhos]"
   ]
  },
  {
   "cell_type": "markdown",
   "id": "b23f6190",
   "metadata": {},
   "source": [
    "### Inicialização da população\n",
    "\n",
    "Uma população é um conjunto de indivíduos."
   ]
  },
  {
   "cell_type": "code",
   "execution_count": 13,
   "id": "759cd9f3",
   "metadata": {},
   "outputs": [],
   "source": [
    "class AlgoritmoGenetico():\n",
    "    def __init__(self, tamanho_populacao):\n",
    "        self.tamanho_populacao = tamanho_populacao\n",
    "        self.populacao: list[Individuo] = [] # Armazenará uma lista de indivíduos de acordo com o tamanho da população\n",
    "        #self.geracao = 0\n",
    "        self.melhor_solucao = 0 # Armazena qual dos indivíduos tem a melhor solução (maior nota e não extrapole o limite total de capacidade) (Armazena o objeto indivíduo inteiro)\n",
    "\n",
    "    def inicializa_populacao(self, espacos, valores, limite_espacos):\n",
    "        self.populacao = [Individuo(espacos, valores, limite_espacos) for i in range(self.tamanho_populacao)]\n",
    "        self.melhor_solucao = self.populacao[0] # Na inicialização da população, define a melhor solução como a primeira (porém, n é a verdade, apenas inicializa)        \n",
    "    \n",
    "    def ordena_populacao(self):\n",
    "        self.populacao = sorted(self.populacao,\n",
    "                                key=lambda populacao: populacao.nota_avaliacao, # Lambda para definir qual será a chave para ordenação da lista, no caso, será a nota de avaliação\n",
    "                                reverse=True) # Do maior para o menor\n",
    "    \n",
    "    # Compara o um indivíduo especifico vindo do parametro com a melhor_solucao\n",
    "    # Nota: esta função é opcional, pois é possível adquirir a melhor solução simplesmente ordenando o array de população em ordem decrescente pela nota de avaliação e pegando o 1° índice\n",
    "    def melhor_individuo(self, individuo: Individuo):\n",
    "        if individuo.nota_avaliacao > self.melhor_solucao.nota_avaliacao:\n",
    "            self.melhor_solucao = individuo\n",
    "    \n",
    "    # Soma todas as avaliações de cada indivíduo da população\n",
    "    def soma_avaliacoes(self):\n",
    "        return sum([i.nota_avaliacao for i in self.populacao])\n",
    "    \n",
    "    # Fará a simulação do processo da Roleta Viciada, retorna o índice do elemento selecionado\n",
    "    def seleciona_pai(self, soma_avaliacao):\n",
    "        pai = -1 # Inicializa como -1 (não selecionou nenhum pai)\n",
    "        valor_sorteado = random() * soma_avaliacao # Gera um número aleatório entre 0 e 1 e multiplica pelo somatório das notas\n",
    "        soma = 0\n",
    "        i = 0\n",
    "        \n",
    "        while i < len(self.populacao) and soma < valor_sorteado:\n",
    "            soma += self.populacao[i].nota_avaliacao\n",
    "            pai += 1\n",
    "            i += 1\n",
    "        return pai\n",
    "\n",
    "    def visualiza_geracao(self):\n",
    "        melhor = self.populacao[0]\n",
    "        print(f'G: {self.populacao[0].geracao} -> Valor: {melhor.nota_avaliacao:.2f} Espaço: {melhor.espaco_usado:.2f} Cromossomo: {melhor.cromossomo}')\n",
    "\n",
    "    # Algoritmo completo, esta função irá fazer todo o processo de uma só vez\n",
    "    def resolver(self, taxa_mutacao, numero_geracoes, espacos, valores, limite_espacos):\n",
    "        # Inicializa a população\n",
    "        self.inicializa_populacao(espacos, valores, limite_espacos)\n",
    "        \n",
    "        for geracao in range(numero_geracoes):\n",
    "            # Realiza a avaliação para cada um dos indivíduos da geração atual\n",
    "            for individuo in self.populacao:\n",
    "                individuo.avaliacao()\n",
    "                \n",
    "            # Ordena a população pela nota de avaliação\n",
    "            self.ordena_populacao()\n",
    "\n",
    "            # Seleciona o melhor indivíduo\n",
    "            self.melhor_individuo(self.populacao[0])\n",
    "\n",
    "            # Exibe alguns detalhes da geração atual\n",
    "            self.visualiza_geracao()\n",
    "    \n",
    "            # Soma as avaliações\n",
    "            soma = self.soma_avaliacoes()\n",
    "    \n",
    "            nova_populacao: list[Individuo] = []\n",
    "            for i in range(0, self.tamanho_populacao, 2):\n",
    "                # Seleção de indivíduos (pais)\n",
    "                pai_indice1 = self.seleciona_pai(soma)\n",
    "                pai_indice2 = self.seleciona_pai(soma)\n",
    "    \n",
    "                # Cruzamento (crossover) dos dois indivíduos para gerar 2 filhos\n",
    "                filhos = self.populacao[pai_indice1].cruzamento(self.populacao[pai_indice2])\n",
    "    \n",
    "                # Realiza mutação dos filhos\n",
    "                nova_populacao.append(filhos[0].mutacao(taxa_mutacao))\n",
    "                nova_populacao.append(filhos[1].mutacao(taxa_mutacao))\n",
    "    \n",
    "            # Define nova população para a próxima geração\n",
    "            self.populacao = nova_populacao\n",
    "        \n",
    "        print(f'Melhor solução -> G: {self.melhor_solucao.geracao} Valor: {self.melhor_solucao.nota_avaliacao:.2f} Espaco: {self.melhor_solucao.espaco_usado:.2f} Cromossomo: {self.melhor_solucao.cromossomo}')\n",
    "        \n",
    "        return self.melhor_solucao\n",
    "    "
   ]
  },
  {
   "cell_type": "code",
   "execution_count": 14,
   "id": "f0f72e21",
   "metadata": {},
   "outputs": [],
   "source": [
    "tamanho_populacao = 20"
   ]
  },
  {
   "cell_type": "markdown",
   "id": "c40db168",
   "metadata": {},
   "source": [
    "**Inicialização da população inicial**"
   ]
  },
  {
   "cell_type": "code",
   "execution_count": 15,
   "id": "6b34b187",
   "metadata": {},
   "outputs": [],
   "source": [
    "ag = AlgoritmoGenetico(tamanho_populacao)\n",
    "ag.inicializa_populacao(espacos, valores, limite)"
   ]
  },
  {
   "cell_type": "markdown",
   "id": "844a49bc",
   "metadata": {},
   "source": [
    "**Avaliação da população e identificando melhor indivíduo**"
   ]
  },
  {
   "cell_type": "code",
   "execution_count": 16,
   "id": "2e611cc5",
   "metadata": {},
   "outputs": [],
   "source": [
    "# Realiza a avaliação para cada um dos indivíduos\n",
    "for individuo in ag.populacao:\n",
    "    individuo.avaliacao()\n",
    "    \n",
    "# Ordena a população pela nota de avaliação\n",
    "ag.ordena_populacao()\n",
    "ag.melhor_individuo(ag.populacao[0]) # Passa simplesmente o primeiro como paramêtro de comparação"
   ]
  },
  {
   "cell_type": "code",
   "execution_count": 17,
   "id": "35523f4e",
   "metadata": {},
   "outputs": [
    {
     "name": "stdout",
     "output_type": "stream",
     "text": [
      "*** Indivíduo 0 *** \n",
      " Cromossomo:  ['1', '1', '1', '1', '1', '1', '0', '1', '0', '0', '0', '0', '1', '1'] \n",
      " Nota:  24064.370000000003 \n",
      "\n",
      "*** Indivíduo 1 *** \n",
      " Cromossomo:  ['1', '1', '1', '0', '1', '1', '0', '1', '0', '1', '0', '0', '1', '1'] \n",
      " Nota:  20363.760000000002 \n",
      "\n",
      "*** Indivíduo 2 *** \n",
      " Cromossomo:  ['0', '1', '1', '1', '0', '1', '0', '1', '1', '0', '1', '0', '0', '1'] \n",
      " Nota:  19344.47 \n",
      "\n",
      "*** Indivíduo 3 *** \n",
      " Cromossomo:  ['0', '1', '0', '1', '1', '1', '1', '0', '0', '1', '1', '0', '0', '1'] \n",
      " Nota:  17757.11 \n",
      "\n",
      "*** Indivíduo 4 *** \n",
      " Cromossomo:  ['0', '1', '1', '0', '0', '1', '0', '0', '1', '0', '0', '1', '1', '1'] \n",
      " Nota:  17386.699999999997 \n",
      "\n",
      "*** Indivíduo 5 *** \n",
      " Cromossomo:  ['0', '1', '0', '1', '0', '1', '0', '1', '0', '1', '0', '1', '1', '1'] \n",
      " Nota:  17217.66 \n",
      "\n",
      "*** Indivíduo 6 *** \n",
      " Cromossomo:  ['0', '1', '0', '1', '0', '0', '0', '1', '1', '0', '1', '1', '1', '1'] \n",
      " Nota:  15697.369999999999 \n",
      "\n",
      "*** Indivíduo 7 *** \n",
      " Cromossomo:  ['1', '0', '1', '1', '0', '0', '1', '0', '0', '0', '0', '0', '1', '1'] \n",
      " Nota:  15545.589999999998 \n",
      "\n",
      "*** Indivíduo 8 *** \n",
      " Cromossomo:  ['0', '1', '0', '1', '1', '0', '1', '0', '1', '0', '1', '0', '0', '1'] \n",
      " Nota:  15387.82 \n",
      "\n",
      "*** Indivíduo 9 *** \n",
      " Cromossomo:  ['0', '1', '0', '1', '1', '0', '0', '0', '0', '0', '0', '1', '0', '1'] \n",
      " Nota:  15108.91 \n",
      "\n",
      "*** Indivíduo 10 *** \n",
      " Cromossomo:  ['1', '1', '0', '1', '1', '1', '0', '1', '0', '1', '1', '0', '0', '0'] \n",
      " Nota:  14866.77 \n",
      "\n",
      "*** Indivíduo 11 *** \n",
      " Cromossomo:  ['0', '0', '1', '1', '0', '0', '0', '0', '1', '0', '1', '0', '0', '1'] \n",
      " Nota:  13624.789999999999 \n",
      "\n",
      "*** Indivíduo 12 *** \n",
      " Cromossomo:  ['0', '1', '1', '0', '1', '0', '1', '1', '1', '0', '0', '0', '1', '0'] \n",
      " Nota:  13195.47 \n",
      "\n",
      "*** Indivíduo 13 *** \n",
      " Cromossomo:  ['1', '1', '0', '1', '0', '0', '1', '1', '1', '1', '1', '0', '1', '0'] \n",
      " Nota:  11997.57 \n",
      "\n",
      "*** Indivíduo 14 *** \n",
      " Cromossomo:  ['1', '0', '0', '0', '1', '0', '0', '1', '1', '1', '1', '0', '1', '1'] \n",
      " Nota:  11884.65 \n",
      "\n",
      "*** Indivíduo 15 *** \n",
      " Cromossomo:  ['0', '0', '0', '1', '0', '0', '1', '1', '0', '1', '1', '1', '0', '1'] \n",
      " Nota:  10855.64 \n",
      "\n",
      "*** Indivíduo 16 *** \n",
      " Cromossomo:  ['1', '1', '1', '0', '0', '0', '0', '0', '0', '0', '1', '1', '0', '0'] \n",
      " Nota:  10306.9 \n",
      "\n",
      "*** Indivíduo 17 *** \n",
      " Cromossomo:  ['0', '0', '0', '0', '1', '0', '0', '1', '0', '0', '0', '1', '1', '0'] \n",
      " Nota:  6507.450000000001 \n",
      "\n",
      "*** Indivíduo 18 *** \n",
      " Cromossomo:  ['1', '0', '1', '1', '1', '1', '1', '1', '1', '1', '1', '1', '1', '1'] \n",
      " Nota:  1 \n",
      "\n",
      "*** Indivíduo 19 *** \n",
      " Cromossomo:  ['1', '0', '1', '1', '0', '1', '1', '1', '0', '0', '0', '1', '1', '0'] \n",
      " Nota:  1 \n",
      "\n"
     ]
    }
   ],
   "source": [
    "for idx, i in enumerate(ag.populacao):\n",
    "    print(f'*** Indivíduo {idx} *** \\n',\n",
    "          'Cromossomo: ', i.cromossomo, '\\n',\n",
    "          'Nota: ', i.nota_avaliacao, '\\n')"
   ]
  },
  {
   "cell_type": "code",
   "execution_count": 18,
   "id": "68d009eb",
   "metadata": {},
   "outputs": [
    {
     "name": "stdout",
     "output_type": "stream",
     "text": [
      "*** Melhor solução *** \n",
      " Cromossomo:  ['1', '1', '1', '1', '1', '1', '0', '1', '0', '0', '0', '0', '1', '1'] \n",
      " Nota:  24064.370000000003\n"
     ]
    }
   ],
   "source": [
    "print(f'*** Melhor solução *** \\n',\n",
    "          'Cromossomo: ', ag.melhor_solucao.cromossomo, '\\n',\n",
    "          'Nota: ', ag.melhor_solucao.nota_avaliacao)"
   ]
  },
  {
   "cell_type": "markdown",
   "id": "65857126",
   "metadata": {},
   "source": [
    "### Soma das avaliações\n",
    "\n",
    "O objetivo de fazer essa processo é que o próximo passo seria realizar a **seleção dos melhores indivíduos** e para fazer esta seleção seria necessário ter o proporcional da nota de cada um deles (somatório das notas)."
   ]
  },
  {
   "cell_type": "code",
   "execution_count": 19,
   "id": "8b890e22",
   "metadata": {},
   "outputs": [
    {
     "name": "stdout",
     "output_type": "stream",
     "text": [
      "Soma das avaliações:  271115.00000000006\n"
     ]
    }
   ],
   "source": [
    "soma = ag.soma_avaliacoes()\n",
    "print('Soma das avaliações: ', soma)"
   ]
  },
  {
   "cell_type": "markdown",
   "id": "155faddf",
   "metadata": {},
   "source": [
    "### Seleção dos indivíduos (pais) e construção de nova geração\n",
    "\n",
    "Iremos utilizar o método para seleção chamado **roleta viciada**, onde:\n",
    "\n",
    "- Cada cromossomo recebe um pedaço proporcional à sua avaliação e a roleta é rodada.\n",
    "- Elitismo: módulos de população que preservam os melhores, que garantem a estabilidade do melhor e não sua evolução.\n",
    "- - Não utilizaremos os melhores indivíduos para realizar evolução a todo momento, apenas preservaremos os mesmos."
   ]
  },
  {
   "cell_type": "code",
   "execution_count": 20,
   "id": "00c3c06d",
   "metadata": {},
   "outputs": [],
   "source": [
    "nova_populacao = []\n",
    "taxa_mutacao = 0.01"
   ]
  },
  {
   "cell_type": "markdown",
   "id": "b1087afb",
   "metadata": {},
   "source": [
    "É realizado a seleção dos indivíduos e da nova população."
   ]
  },
  {
   "cell_type": "code",
   "execution_count": 21,
   "id": "8d10fb9a",
   "metadata": {},
   "outputs": [],
   "source": [
    "for individuos_gerados in range(0, ag.tamanho_populacao, 2):\n",
    "    # Seleção de indivíduos (pais)\n",
    "    pai_indice1 = ag.seleciona_pai(soma)\n",
    "    pai_indice2 = ag.seleciona_pai(soma)\n",
    "    \n",
    "    # Cruzamento (crossover) dos dois indivíduos para gerar 2 filhos\n",
    "    filhos = ag.populacao[pai_indice1].cruzamento(ag.populacao[pai_indice2])\n",
    "    \n",
    "    # Realiza mutação dos filhos\n",
    "    nova_populacao.append(filhos[0].mutacao(taxa_mutacao))\n",
    "    nova_populacao.append(filhos[1].mutacao(taxa_mutacao))\n",
    "\n",
    "ag.populacao = list(nova_populacao)"
   ]
  },
  {
   "cell_type": "markdown",
   "id": "7c2f9ba1",
   "metadata": {},
   "source": [
    "É um processo iterativo, então devemos novamente fazer a avaliação, soma das avaliações, seleção dos indivíduos e geração da nova população para a próxima geração. Podemos fazer um loop de repetição para realizar isto."
   ]
  },
  {
   "cell_type": "markdown",
   "id": "571661c6",
   "metadata": {},
   "source": [
    "### Algoritmo completo com a função *resolver* criada na classe Algoritmo Genético"
   ]
  },
  {
   "cell_type": "code",
   "execution_count": 22,
   "id": "9efe74fe",
   "metadata": {},
   "outputs": [],
   "source": [
    "tamanho_populacao = 20\n",
    "taxa_mutacao = 0.01\n",
    "numero_geracoes = 100"
   ]
  },
  {
   "cell_type": "code",
   "execution_count": 23,
   "id": "b4f8c6d3",
   "metadata": {},
   "outputs": [],
   "source": [
    "ag = AlgoritmoGenetico(tamanho_populacao)\n",
    "ag.inicializa_populacao(espacos, valores, limite)"
   ]
  },
  {
   "cell_type": "code",
   "execution_count": 24,
   "id": "492a970c",
   "metadata": {},
   "outputs": [
    {
     "name": "stdout",
     "output_type": "stream",
     "text": [
      "G: 0 -> Valor: 18274.69 Espaço: 1.47 Cromossomo: ['0', '0', '1', '1', '1', '1', '0', '0', '1', '0', '0', '0', '0', '1']\n",
      "G: 1 -> Valor: 20583.25 Espaço: 2.02 Cromossomo: ['0', '0', '1', '1', '1', '1', '0', '1', '1', '0', '0', '0', '1', '1']\n",
      "G: 2 -> Valor: 19274.59 Espaço: 2.23 Cromossomo: ['1', '0', '1', '1', '1', '1', '0', '0', '1', '0', '0', '0', '0', '1']\n",
      "G: 3 -> Valor: 21495.27 Espaço: 2.57 Cromossomo: ['1', '1', '1', '1', '0', '1', '0', '1', '1', '0', '0', '0', '1', '1']\n",
      "G: 4 -> Valor: 18774.59 Espaço: 2.72 Cromossomo: ['1', '0', '1', '1', '1', '0', '0', '0', '1', '0', '0', '0', '1', '1']\n",
      "G: 5 -> Valor: 18344.37 Espaço: 2.91 Cromossomo: ['1', '1', '1', '0', '0', '1', '0', '1', '1', '0', '1', '0', '1', '1']\n",
      "G: 6 -> Valor: 20343.47 Espaço: 2.36 Cromossomo: ['0', '1', '1', '0', '1', '1', '0', '1', '1', '0', '1', '0', '1', '1']\n",
      "G: 7 -> Valor: 18495.47 Espaço: 1.32 Cromossomo: ['0', '1', '1', '1', '0', '1', '0', '1', '1', '0', '0', '0', '0', '1']\n",
      "G: 8 -> Valor: 18495.47 Espaço: 1.32 Cromossomo: ['0', '1', '1', '1', '0', '1', '0', '1', '1', '0', '0', '0', '0', '1']\n",
      "G: 9 -> Valor: 18186.81 Espaço: 1.27 Cromossomo: ['0', '1', '1', '1', '0', '1', '0', '0', '1', '0', '0', '0', '0', '1']\n",
      "G: 10 -> Valor: 17643.76 Espaço: 2.19 Cromossomo: ['0', '1', '1', '0', '0', '1', '0', '1', '1', '1', '1', '0', '1', '1']\n",
      "G: 11 -> Valor: 17643.76 Espaço: 2.19 Cromossomo: ['0', '1', '1', '0', '0', '1', '0', '1', '1', '1', '1', '0', '1', '1']\n",
      "G: 12 -> Valor: 18643.66 Espaço: 2.94 Cromossomo: ['1', '1', '1', '0', '0', '1', '0', '1', '1', '1', '1', '0', '1', '1']\n",
      "G: 13 -> Valor: 17643.76 Espaço: 2.19 Cromossomo: ['0', '1', '1', '0', '0', '1', '0', '1', '1', '1', '1', '0', '1', '1']\n",
      "G: 14 -> Valor: 17235.71 Espaço: 2.61 Cromossomo: ['0', '1', '1', '0', '0', '1', '1', '0', '1', '0', '1', '0', '1', '1']\n",
      "G: 15 -> Valor: 17643.76 Espaço: 2.19 Cromossomo: ['0', '1', '1', '0', '0', '1', '0', '1', '1', '1', '1', '0', '1', '1']\n",
      "G: 16 -> Valor: 17643.76 Espaço: 2.19 Cromossomo: ['0', '1', '1', '0', '0', '1', '0', '1', '1', '1', '1', '0', '1', '1']\n",
      "G: 17 -> Valor: 17535.00 Espaço: 2.65 Cromossomo: ['0', '1', '1', '0', '0', '1', '1', '0', '1', '1', '1', '0', '1', '1']\n",
      "G: 18 -> Valor: 18034.10 Espaço: 2.84 Cromossomo: ['0', '1', '1', '0', '1', '0', '1', '0', '1', '1', '1', '0', '1', '1']\n",
      "G: 19 -> Valor: 20642.76 Espaço: 2.39 Cromossomo: ['0', '1', '1', '0', '1', '1', '0', '1', '1', '1', '1', '0', '1', '1']\n",
      "G: 20 -> Valor: 17734.81 Espaço: 2.81 Cromossomo: ['0', '1', '1', '0', '1', '0', '1', '0', '1', '0', '1', '0', '1', '1']\n",
      "G: 21 -> Valor: 17535.00 Espaço: 2.65 Cromossomo: ['0', '1', '1', '0', '0', '1', '1', '0', '1', '1', '1', '0', '1', '1']\n",
      "G: 22 -> Valor: 21035.71 Espaço: 2.41 Cromossomo: ['0', '1', '1', '1', '0', '1', '0', '0', '1', '0', '1', '0', '1', '1']\n",
      "G: 23 -> Valor: 20685.90 Espaço: 2.30 Cromossomo: ['0', '1', '1', '1', '0', '1', '1', '0', '1', '1', '0', '0', '1', '1']\n",
      "G: 24 -> Valor: 18643.66 Espaço: 2.94 Cromossomo: ['1', '1', '1', '0', '0', '1', '0', '1', '1', '1', '1', '0', '1', '1']\n",
      "G: 25 -> Valor: 20256.00 Espaço: 2.25 Cromossomo: ['0', '1', '1', '1', '0', '1', '1', '0', '0', '1', '0', '0', '1', '1']\n",
      "G: 26 -> Valor: 20534.00 Espaço: 2.85 Cromossomo: ['0', '1', '1', '0', '1', '1', '1', '0', '1', '1', '1', '0', '1', '1']\n",
      "G: 27 -> Valor: 20534.00 Espaço: 2.85 Cromossomo: ['0', '1', '1', '0', '1', '1', '1', '0', '1', '1', '1', '0', '1', '1']\n",
      "G: 28 -> Valor: 23185.71 Espaço: 1.97 Cromossomo: ['0', '1', '1', '1', '1', '1', '0', '0', '1', '0', '0', '0', '1', '1']\n",
      "G: 29 -> Valor: 22642.76 Espaço: 2.18 Cromossomo: ['0', '1', '1', '1', '1', '1', '0', '1', '1', '1', '1', '0', '0', '1']\n",
      "G: 30 -> Valor: 22642.76 Espaço: 2.18 Cromossomo: ['0', '1', '1', '1', '1', '1', '0', '1', '1', '1', '1', '0', '0', '1']\n",
      "G: 31 -> Valor: 22993.65 Espaço: 2.42 Cromossomo: ['0', '1', '1', '1', '1', '1', '0', '1', '1', '1', '0', '1', '0', '1']\n",
      "G: 32 -> Valor: 24642.66 Espaço: 2.68 Cromossomo: ['0', '1', '1', '1', '1', '1', '0', '1', '1', '1', '1', '0', '1', '1']\n",
      "G: 33 -> Valor: 24642.66 Espaço: 2.68 Cromossomo: ['0', '1', '1', '1', '1', '1', '0', '1', '1', '1', '1', '0', '1', '1']\n",
      "G: 34 -> Valor: 24642.66 Espaço: 2.68 Cromossomo: ['0', '1', '1', '1', '1', '1', '0', '1', '1', '1', '1', '0', '1', '1']\n",
      "G: 35 -> Valor: 24642.66 Espaço: 2.68 Cromossomo: ['0', '1', '1', '1', '1', '1', '0', '1', '1', '1', '1', '0', '1', '1']\n",
      "G: 36 -> Valor: 24642.66 Espaço: 2.68 Cromossomo: ['0', '1', '1', '1', '1', '1', '0', '1', '1', '1', '1', '0', '1', '1']\n",
      "G: 37 -> Valor: 24642.66 Espaço: 2.68 Cromossomo: ['0', '1', '1', '1', '1', '1', '0', '1', '1', '1', '1', '0', '1', '1']\n",
      "G: 38 -> Valor: 24642.66 Espaço: 2.68 Cromossomo: ['0', '1', '1', '1', '1', '1', '0', '1', '1', '1', '1', '0', '1', '1']\n",
      "G: 39 -> Valor: 24642.66 Espaço: 2.68 Cromossomo: ['0', '1', '1', '1', '1', '1', '0', '1', '1', '1', '1', '0', '1', '1']\n",
      "G: 40 -> Valor: 24642.66 Espaço: 2.68 Cromossomo: ['0', '1', '1', '1', '1', '1', '0', '1', '1', '1', '1', '0', '1', '1']\n",
      "G: 41 -> Valor: 24993.55 Espaço: 2.92 Cromossomo: ['0', '1', '1', '1', '1', '1', '0', '1', '1', '1', '0', '1', '1', '1']\n",
      "G: 42 -> Valor: 24993.55 Espaço: 2.92 Cromossomo: ['0', '1', '1', '1', '1', '1', '0', '1', '1', '1', '0', '1', '1', '1']\n",
      "G: 43 -> Valor: 24993.55 Espaço: 2.92 Cromossomo: ['0', '1', '1', '1', '1', '1', '0', '1', '1', '1', '0', '1', '1', '1']\n",
      "G: 44 -> Valor: 24993.55 Espaço: 2.92 Cromossomo: ['0', '1', '1', '1', '1', '1', '0', '1', '1', '1', '0', '1', '1', '1']\n",
      "G: 45 -> Valor: 24642.66 Espaço: 2.68 Cromossomo: ['0', '1', '1', '1', '1', '1', '0', '1', '1', '1', '1', '0', '1', '1']\n",
      "G: 46 -> Valor: 24642.66 Espaço: 2.68 Cromossomo: ['0', '1', '1', '1', '1', '1', '0', '1', '1', '1', '1', '0', '1', '1']\n",
      "G: 47 -> Valor: 24642.66 Espaço: 2.68 Cromossomo: ['0', '1', '1', '1', '1', '1', '0', '1', '1', '1', '1', '0', '1', '1']\n",
      "G: 48 -> Valor: 24642.66 Espaço: 2.68 Cromossomo: ['0', '1', '1', '1', '1', '1', '0', '1', '1', '1', '1', '0', '1', '1']\n",
      "G: 49 -> Valor: 24642.66 Espaço: 2.68 Cromossomo: ['0', '1', '1', '1', '1', '1', '0', '1', '1', '1', '1', '0', '1', '1']\n",
      "G: 50 -> Valor: 24642.66 Espaço: 2.68 Cromossomo: ['0', '1', '1', '1', '1', '1', '0', '1', '1', '1', '1', '0', '1', '1']\n",
      "G: 51 -> Valor: 24642.66 Espaço: 2.68 Cromossomo: ['0', '1', '1', '1', '1', '1', '0', '1', '1', '1', '1', '0', '1', '1']\n",
      "G: 52 -> Valor: 24642.66 Espaço: 2.68 Cromossomo: ['0', '1', '1', '1', '1', '1', '0', '1', '1', '1', '1', '0', '1', '1']\n",
      "G: 53 -> Valor: 24642.66 Espaço: 2.68 Cromossomo: ['0', '1', '1', '1', '1', '1', '0', '1', '1', '1', '1', '0', '1', '1']\n",
      "G: 54 -> Valor: 24642.66 Espaço: 2.68 Cromossomo: ['0', '1', '1', '1', '1', '1', '0', '1', '1', '1', '1', '0', '1', '1']\n",
      "G: 55 -> Valor: 24642.66 Espaço: 2.68 Cromossomo: ['0', '1', '1', '1', '1', '1', '0', '1', '1', '1', '1', '0', '1', '1']\n",
      "G: 56 -> Valor: 24642.66 Espaço: 2.68 Cromossomo: ['0', '1', '1', '1', '1', '1', '0', '1', '1', '1', '1', '0', '1', '1']\n",
      "G: 57 -> Valor: 24993.55 Espaço: 2.92 Cromossomo: ['0', '1', '1', '1', '1', '1', '0', '1', '1', '1', '0', '1', '1', '1']\n",
      "G: 58 -> Valor: 24993.55 Espaço: 2.92 Cromossomo: ['0', '1', '1', '1', '1', '1', '0', '1', '1', '1', '0', '1', '1', '1']\n",
      "G: 59 -> Valor: 24993.55 Espaço: 2.92 Cromossomo: ['0', '1', '1', '1', '1', '1', '0', '1', '1', '1', '0', '1', '1', '1']\n",
      "G: 60 -> Valor: 24993.55 Espaço: 2.92 Cromossomo: ['0', '1', '1', '1', '1', '1', '0', '1', '1', '1', '0', '1', '1', '1']\n",
      "G: 61 -> Valor: 24993.55 Espaço: 2.92 Cromossomo: ['0', '1', '1', '1', '1', '1', '0', '1', '1', '1', '0', '1', '1', '1']\n",
      "G: 62 -> Valor: 24993.55 Espaço: 2.92 Cromossomo: ['0', '1', '1', '1', '1', '1', '0', '1', '1', '1', '0', '1', '1', '1']\n",
      "G: 63 -> Valor: 24993.55 Espaço: 2.92 Cromossomo: ['0', '1', '1', '1', '1', '1', '0', '1', '1', '1', '0', '1', '1', '1']\n",
      "G: 64 -> Valor: 24993.55 Espaço: 2.92 Cromossomo: ['0', '1', '1', '1', '1', '1', '0', '1', '1', '1', '0', '1', '1', '1']\n",
      "G: 65 -> Valor: 24993.55 Espaço: 2.92 Cromossomo: ['0', '1', '1', '1', '1', '1', '0', '1', '1', '1', '0', '1', '1', '1']\n",
      "G: 66 -> Valor: 24993.55 Espaço: 2.92 Cromossomo: ['0', '1', '1', '1', '1', '1', '0', '1', '1', '1', '0', '1', '1', '1']\n",
      "G: 67 -> Valor: 24993.55 Espaço: 2.92 Cromossomo: ['0', '1', '1', '1', '1', '1', '0', '1', '1', '1', '0', '1', '1', '1']\n",
      "G: 68 -> Valor: 24993.55 Espaço: 2.92 Cromossomo: ['0', '1', '1', '1', '1', '1', '0', '1', '1', '1', '0', '1', '1', '1']\n",
      "G: 69 -> Valor: 24993.55 Espaço: 2.92 Cromossomo: ['0', '1', '1', '1', '1', '1', '0', '1', '1', '1', '0', '1', '1', '1']\n",
      "G: 70 -> Valor: 24993.55 Espaço: 2.92 Cromossomo: ['0', '1', '1', '1', '1', '1', '0', '1', '1', '1', '0', '1', '1', '1']\n",
      "G: 71 -> Valor: 24993.55 Espaço: 2.92 Cromossomo: ['0', '1', '1', '1', '1', '1', '0', '1', '1', '1', '0', '1', '1', '1']\n",
      "G: 72 -> Valor: 24993.55 Espaço: 2.92 Cromossomo: ['0', '1', '1', '1', '1', '1', '0', '1', '1', '1', '0', '1', '1', '1']\n",
      "G: 73 -> Valor: 24993.55 Espaço: 2.92 Cromossomo: ['0', '1', '1', '1', '1', '1', '0', '1', '1', '1', '0', '1', '1', '1']\n",
      "G: 74 -> Valor: 24993.55 Espaço: 2.92 Cromossomo: ['0', '1', '1', '1', '1', '1', '0', '1', '1', '1', '0', '1', '1', '1']\n",
      "G: 75 -> Valor: 24993.55 Espaço: 2.92 Cromossomo: ['0', '1', '1', '1', '1', '1', '0', '1', '1', '1', '0', '1', '1', '1']\n",
      "G: 76 -> Valor: 24993.55 Espaço: 2.92 Cromossomo: ['0', '1', '1', '1', '1', '1', '0', '1', '1', '1', '0', '1', '1', '1']\n",
      "G: 77 -> Valor: 24993.55 Espaço: 2.92 Cromossomo: ['0', '1', '1', '1', '1', '1', '0', '1', '1', '1', '0', '1', '1', '1']\n",
      "G: 78 -> Valor: 24993.55 Espaço: 2.92 Cromossomo: ['0', '1', '1', '1', '1', '1', '0', '1', '1', '1', '0', '1', '1', '1']\n",
      "G: 79 -> Valor: 24993.55 Espaço: 2.92 Cromossomo: ['0', '1', '1', '1', '1', '1', '0', '1', '1', '1', '0', '1', '1', '1']\n",
      "G: 80 -> Valor: 24993.55 Espaço: 2.92 Cromossomo: ['0', '1', '1', '1', '1', '1', '0', '1', '1', '1', '0', '1', '1', '1']\n",
      "G: 81 -> Valor: 24993.55 Espaço: 2.92 Cromossomo: ['0', '1', '1', '1', '1', '1', '0', '1', '1', '1', '0', '1', '1', '1']\n",
      "G: 82 -> Valor: 24993.55 Espaço: 2.92 Cromossomo: ['0', '1', '1', '1', '1', '1', '0', '1', '1', '1', '0', '1', '1', '1']\n",
      "G: 83 -> Valor: 24993.55 Espaço: 2.92 Cromossomo: ['0', '1', '1', '1', '1', '1', '0', '1', '1', '1', '0', '1', '1', '1']\n",
      "G: 84 -> Valor: 24993.55 Espaço: 2.92 Cromossomo: ['0', '1', '1', '1', '1', '1', '0', '1', '1', '1', '0', '1', '1', '1']\n",
      "G: 85 -> Valor: 24993.55 Espaço: 2.92 Cromossomo: ['0', '1', '1', '1', '1', '1', '0', '1', '1', '1', '0', '1', '1', '1']\n",
      "G: 86 -> Valor: 24993.55 Espaço: 2.92 Cromossomo: ['0', '1', '1', '1', '1', '1', '0', '1', '1', '1', '0', '1', '1', '1']\n",
      "G: 87 -> Valor: 24993.55 Espaço: 2.92 Cromossomo: ['0', '1', '1', '1', '1', '1', '0', '1', '1', '1', '0', '1', '1', '1']\n",
      "G: 88 -> Valor: 24993.55 Espaço: 2.92 Cromossomo: ['0', '1', '1', '1', '1', '1', '0', '1', '1', '1', '0', '1', '1', '1']\n",
      "G: 89 -> Valor: 24993.55 Espaço: 2.92 Cromossomo: ['0', '1', '1', '1', '1', '1', '0', '1', '1', '1', '0', '1', '1', '1']\n",
      "G: 90 -> Valor: 24993.55 Espaço: 2.92 Cromossomo: ['0', '1', '1', '1', '1', '1', '0', '1', '1', '1', '0', '1', '1', '1']\n",
      "G: 91 -> Valor: 24993.55 Espaço: 2.92 Cromossomo: ['0', '1', '1', '1', '1', '1', '0', '1', '1', '1', '0', '1', '1', '1']\n",
      "G: 92 -> Valor: 24993.55 Espaço: 2.92 Cromossomo: ['0', '1', '1', '1', '1', '1', '0', '1', '1', '1', '0', '1', '1', '1']\n",
      "G: 93 -> Valor: 24993.55 Espaço: 2.92 Cromossomo: ['0', '1', '1', '1', '1', '1', '0', '1', '1', '1', '0', '1', '1', '1']\n",
      "G: 94 -> Valor: 24993.55 Espaço: 2.92 Cromossomo: ['0', '1', '1', '1', '1', '1', '0', '1', '1', '1', '0', '1', '1', '1']\n",
      "G: 95 -> Valor: 24993.55 Espaço: 2.92 Cromossomo: ['0', '1', '1', '1', '1', '1', '0', '1', '1', '1', '0', '1', '1', '1']\n",
      "G: 96 -> Valor: 24993.55 Espaço: 2.92 Cromossomo: ['0', '1', '1', '1', '1', '1', '0', '1', '1', '1', '0', '1', '1', '1']\n",
      "G: 97 -> Valor: 24993.55 Espaço: 2.92 Cromossomo: ['0', '1', '1', '1', '1', '1', '0', '1', '1', '1', '0', '1', '1', '1']\n",
      "G: 98 -> Valor: 24993.55 Espaço: 2.92 Cromossomo: ['0', '1', '1', '1', '1', '1', '0', '1', '1', '1', '0', '1', '1', '1']\n",
      "G: 99 -> Valor: 24993.55 Espaço: 2.92 Cromossomo: ['0', '1', '1', '1', '1', '1', '0', '1', '1', '1', '0', '1', '1', '1']\n",
      "Melhor solução -> G: 41 Valor: 24993.55 Espaco: 2.92 Cromossomo: ['0', '1', '1', '1', '1', '1', '0', '1', '1', '1', '0', '1', '1', '1']\n"
     ]
    }
   ],
   "source": [
    "resultado = ag.resolver(taxa_mutacao, numero_geracoes, espacos, valores, limite)"
   ]
  },
  {
   "cell_type": "code",
   "execution_count": 25,
   "id": "6df6c62e",
   "metadata": {},
   "outputs": [
    {
     "name": "stdout",
     "output_type": "stream",
     "text": [
      "Melhor combinação de produtos no caminhão:\n",
      "\n",
      "Nome: Iphone 6 R$ 2911.12\n",
      "Nome: TV 55'  R$ 4346.99\n",
      "Nome: TV 50'  R$ 3999.9\n",
      "Nome: TV 42'  R$ 2999.0\n",
      "Nome: Notebook Dell R$ 2499.9\n",
      "Nome: Microondas Electrolux R$ 308.66\n",
      "Nome: Microondas LG R$ 429.9\n",
      "Nome: Microondas Panasonic R$ 299.29\n",
      "Nome: Geladeira Consul R$ 1199.89\n",
      "Nome: Notebook Lenovo R$ 1999.9\n",
      "Nome: Notebook Asus R$ 3999.0\n"
     ]
    }
   ],
   "source": [
    "print('Melhor combinação de produtos no caminhão:\\n')\n",
    "\n",
    "for idx, p in enumerate(lista_produtos):\n",
    "    if resultado.cromossomo[idx] == \"1\":\n",
    "        print(f'Nome: {p.nome} R$ {p.valor}')"
   ]
  }
 ],
 "metadata": {
  "kernelspec": {
   "display_name": "ai_env",
   "language": "python",
   "name": "python3"
  },
  "language_info": {
   "codemirror_mode": {
    "name": "ipython",
    "version": 3
   },
   "file_extension": ".py",
   "mimetype": "text/x-python",
   "name": "python",
   "nbconvert_exporter": "python",
   "pygments_lexer": "ipython3",
   "version": "3.10.17"
  }
 },
 "nbformat": 4,
 "nbformat_minor": 5
}

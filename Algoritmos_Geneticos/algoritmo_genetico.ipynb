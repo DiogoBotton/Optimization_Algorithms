{
 "cells": [
  {
   "cell_type": "markdown",
   "id": "65b4887b",
   "metadata": {},
   "source": [
    "## Contexto\n",
    "\n",
    "Em uma transportadora, temos um problema onde temos produtos com características de nome, tamanho (em metros cúbicos) e valor, assim como, temos um caminhão com um limite de tamanho. Precisamos levar o máximo de produtos que conseguirmos, porém, é necessário priorizar o valor dos produtos, ou seja, os produtos mais caros que consequentemente darão mais lucro deverão estar no caminhão sem ultrapassar o valor máximo de tamanho.\n",
    "\n",
    "Para isso, é necessário criar um algoritmo genético onde a solução tem como objetivo **maximizar o valor de lucro** nesse transporte para a transportadora."
   ]
  },
  {
   "cell_type": "markdown",
   "id": "9994bb9c",
   "metadata": {},
   "source": [
    "### Classe produtos\n",
    "\n",
    "Primeiramente, iremos declarar a classe produto."
   ]
  },
  {
   "cell_type": "code",
   "execution_count": 1,
   "id": "a377649f",
   "metadata": {},
   "outputs": [],
   "source": [
    "class Produto():\n",
    "    def __init__(self, nome, espaco, valor):\n",
    "        self.nome = nome\n",
    "        self.espaco = espaco\n",
    "        self.valor = valor"
   ]
  },
  {
   "cell_type": "code",
   "execution_count": 2,
   "id": "4314ad45",
   "metadata": {},
   "outputs": [
    {
     "data": {
      "text/plain": [
       "['Geladeira Dako',\n",
       " 'Iphone 6',\n",
       " \"TV 55' \",\n",
       " \"TV 50' \",\n",
       " \"TV 42' \",\n",
       " 'Notebook Dell',\n",
       " 'Ventilador Panasonic',\n",
       " 'Microondas Electrolux',\n",
       " 'Microondas LG',\n",
       " 'Microondas Panasonic',\n",
       " 'Geladeira Brastemp',\n",
       " 'Geladeira Consul',\n",
       " 'Notebook Lenovo',\n",
       " 'Notebook Asus']"
      ]
     },
     "execution_count": 2,
     "metadata": {},
     "output_type": "execute_result"
    }
   ],
   "source": [
    "lista_produtos: list[Produto] = []\n",
    "\n",
    "lista_produtos.append(Produto(\"Geladeira Dako\", 0.751, 999.90))\n",
    "lista_produtos.append(Produto(\"Iphone 6\", 0.0000899, 2911.12))\n",
    "lista_produtos.append(Produto(\"TV 55' \", 0.400, 4346.99))\n",
    "lista_produtos.append(Produto(\"TV 50' \", 0.290, 3999.90))\n",
    "lista_produtos.append(Produto(\"TV 42' \", 0.200, 2999.00))\n",
    "lista_produtos.append(Produto(\"Notebook Dell\", 0.00350, 2499.90))\n",
    "lista_produtos.append(Produto(\"Ventilador Panasonic\", 0.496, 199.90))\n",
    "lista_produtos.append(Produto(\"Microondas Electrolux\", 0.0424, 308.66))\n",
    "lista_produtos.append(Produto(\"Microondas LG\", 0.0544, 429.90))\n",
    "lista_produtos.append(Produto(\"Microondas Panasonic\", 0.0319, 299.29))\n",
    "lista_produtos.append(Produto(\"Geladeira Brastemp\", 0.635, 849.00))\n",
    "lista_produtos.append(Produto(\"Geladeira Consul\", 0.870, 1199.89))\n",
    "lista_produtos.append(Produto(\"Notebook Lenovo\", 0.498, 1999.90))\n",
    "lista_produtos.append(Produto(\"Notebook Asus\", 0.527, 3999.00))\n",
    "\n",
    "[p.nome for p in lista_produtos]"
   ]
  },
  {
   "cell_type": "markdown",
   "id": "1c04b4ce",
   "metadata": {},
   "source": [
    "### Classe indivíduo\n",
    "\n",
    "A primeira fase de um algoritmo genético é **gerar a população inicial**. A população é caracterizada por um **conjunto de indivíduos**.\n",
    "\n",
    "geracao=0 significa que quando um indivíduo for criado, ele inicialmente não evoluiu nada.\n",
    "\n",
    "Iremos aleatorizar o cromossomo (solução do indivíduo) na inicialização da classe como 0 ou 1, pois existem 2 tipos de estados de um produto, *irá levar* ou *não irá levar* o produto no caminhão.\n",
    "\n",
    "Para o nosso caso, a *nota_avaliacao* será o somatório dos valores (R$) da carga."
   ]
  },
  {
   "cell_type": "code",
   "execution_count": null,
   "id": "5bdc2f62",
   "metadata": {},
   "outputs": [],
   "source": [
    "from random import random\n",
    "\n",
    "class Individuo():\n",
    "    def __init__(self, espacos, valores, limite_espacos, geracao=0):\n",
    "        self.espacos = espacos # Os espaços de todos os produtos que podem ser carregados (em m³)\n",
    "        self.valores = valores # Valores em reais\n",
    "        self.limite_espacos = limite_espacos # Limite do espaço (caminhão)\n",
    "        self.nota_avaliacao = 0 # Cada indivíduo terá uma nota que definirá se ele é bom ou ruim comparado aos outros (R$)\n",
    "        self.espaco_usado = 0\n",
    "        self.geracao = geracao # Geração atual do indivíduo\n",
    "        self.cromossomo = [] # Solução do indivíduo, cada um dos elementos do array é chamado de Gene\n",
    "        \n",
    "        # Inicializando a solução aleatóriamente\n",
    "        for i in range(len(espacos)):\n",
    "            if random() < 0.5: # 50% de chance de inicializar com zero ou um\n",
    "                self.cromossomo.append('0')\n",
    "            else:\n",
    "                self.cromossomo.append('1')\n",
    "    \n",
    "    # Função de avaliação/aptidão (Fitness)\n",
    "    def avaliacao(self):\n",
    "        nota = 0\n",
    "        soma_espacos = 0\n",
    "        \n",
    "        # Soma os espaços e os valores dos produtos\n",
    "        for idx, i in enumerate(self.cromossomo):\n",
    "            if i == \"1\":\n",
    "                soma_espacos += self.espacos[idx]\n",
    "                nota += self.valores[idx]\n",
    "                \n",
    "        # Caso a nota for maior que o limite, rebaixa a nota, pois não é uma boa solução\n",
    "        if soma_espacos > self.limite_espacos:\n",
    "            nota = 1 # Por padrão é utilizado o valor 1 para rebaixar a nota em algoritmos genéticos\n",
    "\n",
    "        self.nota_avaliacao = nota\n",
    "        self.espaco_usado = soma_espacos"
   ]
  },
  {
   "cell_type": "code",
   "execution_count": 4,
   "id": "f5bd2233",
   "metadata": {},
   "outputs": [],
   "source": [
    "import pandas as pd\n",
    "\n",
    "espacos = []\n",
    "valores = []\n",
    "nomes = []\n",
    "\n",
    "limite = 3\n",
    "\n",
    "for p in lista_produtos:\n",
    "    espacos.append(p.espaco)\n",
    "    valores.append(p.valor)\n",
    "    nomes.append(p.nome)"
   ]
  },
  {
   "cell_type": "code",
   "execution_count": 5,
   "id": "a968b84c",
   "metadata": {},
   "outputs": [
    {
     "data": {
      "text/html": [
       "<div>\n",
       "<style scoped>\n",
       "    .dataframe tbody tr th:only-of-type {\n",
       "        vertical-align: middle;\n",
       "    }\n",
       "\n",
       "    .dataframe tbody tr th {\n",
       "        vertical-align: top;\n",
       "    }\n",
       "\n",
       "    .dataframe thead th {\n",
       "        text-align: right;\n",
       "    }\n",
       "</style>\n",
       "<table border=\"1\" class=\"dataframe\">\n",
       "  <thead>\n",
       "    <tr style=\"text-align: right;\">\n",
       "      <th></th>\n",
       "      <th>Nome</th>\n",
       "      <th>Espaço</th>\n",
       "      <th>Valor</th>\n",
       "    </tr>\n",
       "  </thead>\n",
       "  <tbody>\n",
       "    <tr>\n",
       "      <th>0</th>\n",
       "      <td>Geladeira Dako</td>\n",
       "      <td>0.75100</td>\n",
       "      <td>999.90</td>\n",
       "    </tr>\n",
       "    <tr>\n",
       "      <th>1</th>\n",
       "      <td>Iphone 6</td>\n",
       "      <td>0.00009</td>\n",
       "      <td>2911.12</td>\n",
       "    </tr>\n",
       "    <tr>\n",
       "      <th>2</th>\n",
       "      <td>TV 55'</td>\n",
       "      <td>0.40000</td>\n",
       "      <td>4346.99</td>\n",
       "    </tr>\n",
       "    <tr>\n",
       "      <th>3</th>\n",
       "      <td>TV 50'</td>\n",
       "      <td>0.29000</td>\n",
       "      <td>3999.90</td>\n",
       "    </tr>\n",
       "    <tr>\n",
       "      <th>4</th>\n",
       "      <td>TV 42'</td>\n",
       "      <td>0.20000</td>\n",
       "      <td>2999.00</td>\n",
       "    </tr>\n",
       "  </tbody>\n",
       "</table>\n",
       "</div>"
      ],
      "text/plain": [
       "             Nome   Espaço    Valor\n",
       "0  Geladeira Dako  0.75100   999.90\n",
       "1        Iphone 6  0.00009  2911.12\n",
       "2         TV 55'   0.40000  4346.99\n",
       "3         TV 50'   0.29000  3999.90\n",
       "4         TV 42'   0.20000  2999.00"
      ]
     },
     "execution_count": 5,
     "metadata": {},
     "output_type": "execute_result"
    }
   ],
   "source": [
    "df = pd.DataFrame({\n",
    "    'Nome': nomes,\n",
    "    'Espaço': espacos,\n",
    "    'Valor':valores,\n",
    "})\n",
    "\n",
    "df.head()"
   ]
  },
  {
   "cell_type": "markdown",
   "id": "e5e17766",
   "metadata": {},
   "source": [
    "**Declarando e exibindo uma classe indivíduo de exemplo**\n",
    "\n",
    "Iremos criar o indivíduo com todos os espaços e valores disponíveis, o cromossomo (solução) será inicializada aleatóriamente e a geração será definida como 0 (zero) por padrão."
   ]
  },
  {
   "cell_type": "code",
   "execution_count": 6,
   "id": "51d95a00",
   "metadata": {},
   "outputs": [],
   "source": [
    "individuo_exemplo = Individuo(espacos, valores, limite)"
   ]
  },
  {
   "cell_type": "code",
   "execution_count": 7,
   "id": "742a62c6",
   "metadata": {},
   "outputs": [
    {
     "name": "stdout",
     "output_type": "stream",
     "text": [
      "Espaços =  [0.751, 8.99e-05, 0.4, 0.29, 0.2, 0.0035, 0.496, 0.0424, 0.0544, 0.0319, 0.635, 0.87, 0.498, 0.527]\n",
      "Valores =  [999.9, 2911.12, 4346.99, 3999.9, 2999.0, 2499.9, 199.9, 308.66, 429.9, 299.29, 849.0, 1199.89, 1999.9, 3999.0]\n",
      "Cromossomo (resultado) =  ['0', '0', '1', '0', '0', '1', '0', '0', '0', '1', '1', '1', '1', '0']\n",
      "\n",
      "Componentes da carga\n",
      "Nome: TV 55'  R$ 4346.99\n",
      "Nome: Notebook Dell R$ 2499.9\n",
      "Nome: Microondas Panasonic R$ 299.29\n",
      "Nome: Geladeira Brastemp R$ 849.0\n",
      "Nome: Geladeira Consul R$ 1199.89\n",
      "Nome: Notebook Lenovo R$ 1999.9\n"
     ]
    }
   ],
   "source": [
    "print('Espaços = ', str(individuo_exemplo.espacos))\n",
    "print('Valores = ', str(individuo_exemplo.valores))\n",
    "print('Cromossomo (resultado) = ', str(individuo_exemplo.cromossomo))\n",
    "\n",
    "print('\\nComponentes da carga')\n",
    "for i in range(len(lista_produtos)):\n",
    "    if individuo_exemplo.cromossomo[i] == \"1\":\n",
    "        print(f'Nome: {lista_produtos[i].nome} R$ {lista_produtos[i].valor}')\n",
    "\n",
    "# Também é possível da forma abaixo:\n",
    "# for idx, i in enumerate(individuo_exemplo.cromossomo):\n",
    "#     if i == \"1\":\n",
    "#         print(lista_produtos[idx].nome)"
   ]
  },
  {
   "cell_type": "markdown",
   "id": "89f21400",
   "metadata": {},
   "source": [
    "**Realizando a avaliação do indivíduo de exemplo**"
   ]
  },
  {
   "cell_type": "code",
   "execution_count": 12,
   "id": "cf164c53",
   "metadata": {},
   "outputs": [
    {
     "name": "stdout",
     "output_type": "stream",
     "text": [
      "Nota (R$): 11194.97 \n",
      "Espaço usado: 2.4384 m³\n"
     ]
    }
   ],
   "source": [
    "# Realiza os cálculos para a avaliação\n",
    "individuo_exemplo.avaliacao()\n",
    "\n",
    "print(f'Nota (R$): {individuo_exemplo.nota_avaliacao} \\nEspaço usado: {individuo_exemplo.espaco_usado:.4f} m³')"
   ]
  }
 ],
 "metadata": {
  "kernelspec": {
   "display_name": "ai_env",
   "language": "python",
   "name": "python3"
  },
  "language_info": {
   "codemirror_mode": {
    "name": "ipython",
    "version": 3
   },
   "file_extension": ".py",
   "mimetype": "text/x-python",
   "name": "python",
   "nbconvert_exporter": "python",
   "pygments_lexer": "ipython3",
   "version": "3.10.17"
  }
 },
 "nbformat": 4,
 "nbformat_minor": 5
}

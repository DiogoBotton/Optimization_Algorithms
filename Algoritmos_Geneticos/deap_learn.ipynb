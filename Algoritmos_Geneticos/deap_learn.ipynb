{
 "cells": [
  {
   "cell_type": "markdown",
   "id": "11497ed8",
   "metadata": {},
   "source": [
    "## Algoritmos Genéticos com a biblioteca DEAP (Distributed Evolutionary Algorithms in Python)\n",
    "\n",
    "[Github da biblioteca Deap](https://github.com/deap/deap)\n",
    "\n",
    "Nesta biblioteca há vários outros algoritmos de otimização, no link do github acima há um readme que apresenta todos os algoritmos que são possíveis de utilizar.\n",
    "\n",
    "Iremos utilizar do mesmo contexto do arquivo *algoritmo_genetico.ipynb*, porém agora utilizando a biblioteca Deap."
   ]
  },
  {
   "cell_type": "code",
   "execution_count": 111,
   "id": "8ee86f35",
   "metadata": {},
   "outputs": [],
   "source": [
    "import random\n",
    "import numpy\n",
    "from deap import base\n",
    "from deap import creator\n",
    "from deap import algorithms\n",
    "from deap import tools\n",
    "import matplotlib.pyplot as plt"
   ]
  },
  {
   "cell_type": "markdown",
   "id": "66c00fc5",
   "metadata": {},
   "source": [
    "### Criando a classe produtos"
   ]
  },
  {
   "cell_type": "code",
   "execution_count": 112,
   "id": "167ed677",
   "metadata": {},
   "outputs": [],
   "source": [
    "class Produto():\n",
    "    def __init__(self, nome, espaco, valor):\n",
    "        self.nome = nome\n",
    "        self.espaco = espaco\n",
    "        self.valor = valor"
   ]
  },
  {
   "cell_type": "code",
   "execution_count": 113,
   "id": "36faf684",
   "metadata": {},
   "outputs": [],
   "source": [
    "lista_produtos: list[Produto] = []\n",
    "\n",
    "lista_produtos.append(Produto(\"Geladeira Dako\", 0.751, 999.90))\n",
    "lista_produtos.append(Produto(\"Iphone 6\", 0.0000899, 2911.12))\n",
    "lista_produtos.append(Produto(\"TV 55' \", 0.400, 4346.99))\n",
    "lista_produtos.append(Produto(\"TV 50' \", 0.290, 3999.90))\n",
    "lista_produtos.append(Produto(\"TV 42' \", 0.200, 2999.00))\n",
    "lista_produtos.append(Produto(\"Notebook Dell\", 0.00350, 2499.90))\n",
    "lista_produtos.append(Produto(\"Ventilador Panasonic\", 0.496, 199.90))\n",
    "lista_produtos.append(Produto(\"Microondas Electrolux\", 0.0424, 308.66))\n",
    "lista_produtos.append(Produto(\"Microondas LG\", 0.0544, 429.90))\n",
    "lista_produtos.append(Produto(\"Microondas Panasonic\", 0.0319, 299.29))\n",
    "lista_produtos.append(Produto(\"Geladeira Brastemp\", 0.635, 849.00))\n",
    "lista_produtos.append(Produto(\"Geladeira Consul\", 0.870, 1199.89))\n",
    "lista_produtos.append(Produto(\"Notebook Lenovo\", 0.498, 1999.90))\n",
    "lista_produtos.append(Produto(\"Notebook Asus\", 0.527, 3999.00))"
   ]
  },
  {
   "cell_type": "code",
   "execution_count": 114,
   "id": "c89396cc",
   "metadata": {},
   "outputs": [],
   "source": [
    "espacos = []\n",
    "valores = []\n",
    "nomes = []\n",
    "\n",
    "limite = 3\n",
    "\n",
    "for p in lista_produtos:\n",
    "    espacos.append(p.espaco)\n",
    "    valores.append(p.valor)\n",
    "    nomes.append(p.nome)"
   ]
  },
  {
   "cell_type": "markdown",
   "id": "d41feeb4",
   "metadata": {},
   "source": [
    "### Inicializando a biblioteca"
   ]
  },
  {
   "cell_type": "markdown",
   "id": "0d055951",
   "metadata": {},
   "source": [
    "**Inicialização dos recursos da biblioteca**"
   ]
  },
  {
   "cell_type": "code",
   "execution_count": 115,
   "id": "54fcf1ec",
   "metadata": {},
   "outputs": [],
   "source": [
    "toolbox = base.Toolbox()"
   ]
  },
  {
   "cell_type": "markdown",
   "id": "1076dbc4",
   "metadata": {},
   "source": [
    "A função FitnessMax irá realizar a maximização, no nosso caso, do valor dos produtos.\n",
    "\n",
    "O termo se refere ao processo de avaliação.\n",
    "\n",
    "weights=(1.0,) -> Pesos de como a função fitness irá trabalhar. \n",
    "\n",
    "Em outras palavras, aqui não teremos o valor em reais (somatório dos valores dos produtos), mas sim um valor entre 0 e 1, onde quanto mais próximo de 1 (um) melhor é a nota."
   ]
  },
  {
   "cell_type": "code",
   "execution_count": 116,
   "id": "9c7b12a6",
   "metadata": {},
   "outputs": [],
   "source": [
    "# Definindo a função de avaliação\n",
    "creator.create('FitnessMax', base.Fitness, weights=(1.0,))"
   ]
  },
  {
   "cell_type": "markdown",
   "id": "bb09b57c",
   "metadata": {},
   "source": [
    "**Criando o indivíduo**"
   ]
  },
  {
   "cell_type": "code",
   "execution_count": 117,
   "id": "e6374bca",
   "metadata": {},
   "outputs": [],
   "source": [
    "creator.create('Individual',\n",
    "               list, # Os cromossomos do indivíduo ficarão armazenados aqui\n",
    "               fitness=creator.FitnessMax)"
   ]
  },
  {
   "cell_type": "markdown",
   "id": "e6b941d6",
   "metadata": {},
   "source": [
    "Registrando como o atributo list do *Individual* será preenchido."
   ]
  },
  {
   "cell_type": "code",
   "execution_count": 118,
   "id": "b3645bc8",
   "metadata": {},
   "outputs": [],
   "source": [
    "toolbox.register('attr_bool', # Atributo booleano\n",
    "                 random.randint, # Número randomico\n",
    "                 0, 1) # Entre 0 e 1 (vai levar ou não vai levar o produto)"
   ]
  },
  {
   "cell_type": "markdown",
   "id": "274b40c5",
   "metadata": {},
   "source": [
    "Registrando a classe Individual (indivíduo)."
   ]
  },
  {
   "cell_type": "code",
   "execution_count": 119,
   "id": "f96bc8c3",
   "metadata": {},
   "outputs": [],
   "source": [
    "toolbox.register('individual',\n",
    "                 tools.initRepeat,\n",
    "                 creator.Individual,\n",
    "                 toolbox.attr_bool,\n",
    "                 n=len(espacos))"
   ]
  },
  {
   "cell_type": "markdown",
   "id": "588c3b12",
   "metadata": {},
   "source": [
    "Função para fazer a criação da população."
   ]
  },
  {
   "cell_type": "code",
   "execution_count": 120,
   "id": "1d5d5fce",
   "metadata": {},
   "outputs": [],
   "source": [
    "toolbox.register('population',\n",
    "                 tools.initRepeat,\n",
    "                 list, # Tipo de dados que vão estar as soluções\n",
    "                 toolbox.individual)"
   ]
  },
  {
   "cell_type": "markdown",
   "id": "1bede466",
   "metadata": {},
   "source": [
    "### Função de avaliação\n",
    "\n",
    "É necessário criar a função de avaliação pois a biblioteca não consegue \"adivinhar\" como realizar a avaliação dos indivíduos.\n",
    "\n",
    "É necessário realizar a divisão no retorno da nota para normalizar os resultados entre 0 e 1."
   ]
  },
  {
   "cell_type": "code",
   "execution_count": 121,
   "id": "0113c0a8",
   "metadata": {},
   "outputs": [],
   "source": [
    "def avaliacao(individual):\n",
    "    nota = 0\n",
    "    soma_espacos = 0\n",
    "    \n",
    "    for i in range(len(individual)): # Tamanho do indivíduo, nada mais é do que o cromossomo\n",
    "        if individual[i] == 1:\n",
    "            nota += valores[i] # Soma os valores de cada produto\n",
    "            soma_espacos += espacos[i] # Soma os espaços ocupados por cada produto\n",
    "    \n",
    "    if soma_espacos > limite:\n",
    "        nota = 1\n",
    "        \n",
    "    return nota / 100000, # Essa vírgula no final é necessária, pois definimos os pesos como weights=(1.0,)"
   ]
  },
  {
   "cell_type": "markdown",
   "id": "ff5324db",
   "metadata": {},
   "source": [
    "**Registrando a função de avaliação**"
   ]
  },
  {
   "cell_type": "code",
   "execution_count": 122,
   "id": "de2b6558",
   "metadata": {},
   "outputs": [],
   "source": [
    "toolbox.register('evaluate', avaliacao)"
   ]
  },
  {
   "cell_type": "markdown",
   "id": "9eb9cf51",
   "metadata": {},
   "source": [
    "**Registrando como será feito o cruzamento.**\n",
    "\n",
    "cvOnePoint: 1 ponto de corte (semelhante à implementação manual do arquivo *algoritmo_genetico.ipynb*)."
   ]
  },
  {
   "cell_type": "code",
   "execution_count": 123,
   "id": "d6222288",
   "metadata": {},
   "outputs": [],
   "source": [
    "toolbox.register('mate', tools.cxOnePoint) # cx significa crossover"
   ]
  },
  {
   "cell_type": "markdown",
   "id": "9059cc7f",
   "metadata": {},
   "source": [
    "**Registrando como será feita a mutação.**\n",
    "\n",
    "mutFlipBit: Mudança de bits, quando é 0 se transforma em 1 e vice versa."
   ]
  },
  {
   "cell_type": "code",
   "execution_count": 124,
   "id": "ed8ffc75",
   "metadata": {},
   "outputs": [],
   "source": [
    "toolbox.register('mutate',\n",
    "                 tools.mutFlipBit,\n",
    "                 indpb=0.01) # Taxa/probabilidade de mutação"
   ]
  },
  {
   "cell_type": "markdown",
   "id": "35248c57",
   "metadata": {},
   "source": [
    "**Registrando como será feita a seleção dos indivíduos para o cruzamento e mutação.**\n",
    "\n",
    "Utilizando o método da roleta viciada, assim como na implementação manual."
   ]
  },
  {
   "cell_type": "code",
   "execution_count": 125,
   "id": "daa630f4",
   "metadata": {},
   "outputs": [],
   "source": [
    "toolbox.register('select', tools.selRoulette) # Roleta viciada"
   ]
  },
  {
   "cell_type": "markdown",
   "id": "ded2f6fd",
   "metadata": {},
   "source": [
    "### Função principal"
   ]
  },
  {
   "cell_type": "markdown",
   "id": "6bcf3057",
   "metadata": {},
   "source": [
    "Criando a população.\n",
    "\n",
    "É possível acessar a classe criada anteriormente (com o toolbox.register) referenciando-a."
   ]
  },
  {
   "cell_type": "markdown",
   "id": "b1e8e3ee",
   "metadata": {},
   "source": [
    "**Seed para ter reprodutibilidade dos resultados**"
   ]
  },
  {
   "cell_type": "code",
   "execution_count": 126,
   "id": "f73fb305",
   "metadata": {},
   "outputs": [],
   "source": [
    "#random.seed(487)"
   ]
  },
  {
   "cell_type": "code",
   "execution_count": 127,
   "id": "e5869698",
   "metadata": {},
   "outputs": [],
   "source": [
    "populacao = toolbox.population(n=20) # População de 20 indivíduos\n",
    "probabilidade_crossover = 1.0 # Probabilidade de 100% para crossover (cruzamento), irá sobrescrever toda a população após o crossover\n",
    "probabilidade_mutacao = 0.01\n",
    "numero_geracoes = 100\n",
    "\n",
    "# Irá utilizar os valores da função Fitness (função de avaliação)\n",
    "estatisticas = tools.Statistics(key=lambda individuo: individuo.fitness.values)\n",
    "\n",
    "# Definindo a função que pegará o valor máximo, mínimo, média e desvio padrão\n",
    "# Registrando esses valores, será mostrado no momento que o algoritmo rodar\n",
    "estatisticas.register('max', numpy.max)\n",
    "estatisticas.register('min', numpy.min)\n",
    "estatisticas.register('mean', numpy.mean)\n",
    "estatisticas.register('std', numpy.std)"
   ]
  },
  {
   "cell_type": "markdown",
   "id": "317dbc76",
   "metadata": {},
   "source": [
    "Tipo de algoritmo utilizado: eaSimple (Algoritmo genético simples)."
   ]
  },
  {
   "cell_type": "code",
   "execution_count": 128,
   "id": "76229b2b",
   "metadata": {},
   "outputs": [
    {
     "name": "stdout",
     "output_type": "stream",
     "text": [
      "gen\tnevals\tmax     \tmin  \tmean    \tstd      \n",
      "0  \t20    \t0.194745\t1e-05\t0.099441\t0.0603486\n",
      "1  \t20    \t0.207315\t0.0897569\t0.141986\t0.0349327\n",
      "2  \t20    \t0.196229\t0.0890921\t0.14234 \t0.0337383\n",
      "3  \t20    \t0.202824\t1e-05    \t0.139518\t0.0408975\n",
      "4  \t20    \t0.190825\t1e-05    \t0.139588\t0.0396455\n",
      "5  \t20    \t0.200825\t0.0954579\t0.148122\t0.0302996\n",
      "6  \t20    \t0.185379\t0.102758 \t0.146087\t0.0239534\n",
      "7  \t20    \t0.185857\t0.118074 \t0.153174\t0.0181008\n",
      "8  \t20    \t0.228849\t0.102758 \t0.15852 \t0.0236127\n",
      "9  \t20    \t0.211858\t0.141276 \t0.164309\t0.0190673\n",
      "10 \t20    \t0.223857\t0.128389 \t0.168523\t0.0233543\n",
      "11 \t20    \t0.219558\t0.111286 \t0.165953\t0.0291688\n",
      "12 \t20    \t0.219558\t0.125543 \t0.183741\t0.0266068\n",
      "13 \t20    \t0.219558\t0.125543 \t0.18484 \t0.0260027\n",
      "14 \t20    \t0.208825\t0.0820735\t0.168068\t0.0333026\n",
      "15 \t20    \t0.205833\t0.0789869\t0.158614\t0.0359377\n",
      "16 \t20    \t0.203533\t0.0900736\t0.165245\t0.0305696\n",
      "17 \t20    \t0.203533\t0.0943726\t0.170346\t0.0293735\n",
      "18 \t20    \t0.203533\t0.118986 \t0.177213\t0.0209773\n",
      "19 \t20    \t0.203533\t0.122073 \t0.175865\t0.021829 \n",
      "20 \t20    \t0.207738\t0.122073 \t0.181243\t0.0242996\n",
      "21 \t20    \t0.207738\t0.114279 \t0.176235\t0.0232277\n",
      "22 \t20    \t0.201533\t0.150063 \t0.179614\t0.0184799\n",
      "23 \t20    \t0.201533\t0.140064 \t0.181732\t0.0199786\n",
      "24 \t20    \t0.201533\t0.150063 \t0.191033\t0.0149924\n",
      "25 \t20    \t0.213532\t0.150063 \t0.192207\t0.0138257\n",
      "26 \t20    \t0.213532\t0.163543 \t0.196434\t0.0109431\n",
      "27 \t20    \t0.213532\t0.163543 \t0.199434\t0.0113731\n",
      "28 \t20    \t0.213532\t0.163543 \t0.200534\t0.0129972\n",
      "29 \t20    \t0.213532\t0.171543 \t0.202834\t0.009637 \n",
      "30 \t20    \t0.213532\t0.181534 \t0.205533\t0.00848468\n",
      "31 \t20    \t0.213532\t0.193533 \t0.207733\t0.00662972\n",
      "32 \t20    \t0.213532\t0.193533 \t0.209533\t0.00632408\n",
      "33 \t20    \t0.213532\t0.201533 \t0.211133\t0.00479956\n",
      "34 \t20    \t0.213532\t0.201533 \t0.212333\t0.00359967\n",
      "35 \t20    \t0.213532\t0.201533 \t0.212932\t0.0026151 \n",
      "36 \t20    \t0.213532\t0.201533 \t0.212932\t0.0026151 \n",
      "37 \t20    \t0.213532\t0.201533 \t0.212333\t0.00359967\n",
      "38 \t20    \t0.213532\t0.201533 \t0.212932\t0.0026151 \n",
      "39 \t20    \t0.213532\t0.201533 \t0.212932\t0.0026151 \n",
      "40 \t20    \t0.213532\t0.170063 \t0.211359\t0.00947405\n",
      "41 \t20    \t0.213532\t0.213532 \t0.213532\t0         \n",
      "42 \t20    \t0.213532\t0.213532 \t0.213532\t0         \n",
      "43 \t20    \t0.213532\t0.213532 \t0.213532\t0         \n",
      "44 \t20    \t0.213532\t0.213532 \t0.213532\t0         \n",
      "45 \t20    \t0.213532\t0.213532 \t0.213532\t0         \n",
      "46 \t20    \t0.213532\t0.213532 \t0.213532\t0         \n",
      "47 \t20    \t0.213532\t0.213532 \t0.213532\t0         \n",
      "48 \t20    \t0.213532\t0.213532 \t0.213532\t0         \n",
      "49 \t20    \t0.213532\t0.213532 \t0.213532\t0         \n",
      "50 \t20    \t0.213532\t0.213532 \t0.213532\t0         \n",
      "51 \t20    \t0.213532\t0.213532 \t0.213532\t0         \n",
      "52 \t20    \t0.213532\t0.213532 \t0.213532\t0         \n",
      "53 \t20    \t0.213532\t0.213532 \t0.213532\t0         \n",
      "54 \t20    \t0.213532\t0.213532 \t0.213532\t0         \n",
      "55 \t20    \t0.213532\t0.213532 \t0.213532\t0         \n",
      "56 \t20    \t0.213532\t0.213532 \t0.213532\t0         \n",
      "57 \t20    \t0.213532\t0.213532 \t0.213532\t0         \n",
      "58 \t20    \t0.213532\t0.213532 \t0.213532\t0         \n",
      "59 \t20    \t0.213532\t0.213532 \t0.213532\t0         \n",
      "60 \t20    \t0.213532\t0.213532 \t0.213532\t0         \n",
      "61 \t20    \t0.213532\t0.213532 \t0.213532\t0         \n",
      "62 \t20    \t0.213532\t0.213532 \t0.213532\t0         \n",
      "63 \t20    \t0.213532\t0.213532 \t0.213532\t0         \n",
      "64 \t20    \t0.213532\t0.213532 \t0.213532\t0         \n",
      "65 \t20    \t0.213532\t0.213532 \t0.213532\t0         \n",
      "66 \t20    \t0.213532\t0.213532 \t0.213532\t0         \n",
      "67 \t20    \t0.213532\t0.213532 \t0.213532\t0         \n",
      "68 \t20    \t0.213532\t0.213532 \t0.213532\t0         \n",
      "69 \t20    \t0.213532\t0.213532 \t0.213532\t0         \n",
      "70 \t20    \t0.213532\t0.213532 \t0.213532\t0         \n",
      "71 \t20    \t0.213532\t0.213532 \t0.213532\t0         \n",
      "72 \t20    \t0.213532\t0.213532 \t0.213532\t0         \n",
      "73 \t20    \t0.213532\t0.213532 \t0.213532\t0         \n",
      "74 \t20    \t0.213532\t0.213532 \t0.213532\t0         \n",
      "75 \t20    \t0.213532\t0.213532 \t0.213532\t0         \n",
      "76 \t20    \t0.213532\t0.213532 \t0.213532\t0         \n",
      "77 \t20    \t0.213532\t0.213532 \t0.213532\t0         \n",
      "78 \t20    \t0.213532\t0.213532 \t0.213532\t0         \n",
      "79 \t20    \t0.213532\t0.213532 \t0.213532\t0         \n",
      "80 \t20    \t0.213532\t0.213532 \t0.213532\t0         \n",
      "81 \t20    \t0.213532\t0.213532 \t0.213532\t0         \n",
      "82 \t20    \t0.213532\t0.213532 \t0.213532\t0         \n",
      "83 \t20    \t0.213532\t0.213532 \t0.213532\t0         \n",
      "84 \t20    \t0.213532\t0.213532 \t0.213532\t0         \n",
      "85 \t20    \t0.213532\t0.213532 \t0.213532\t0         \n",
      "86 \t20    \t0.213532\t0.213532 \t0.213532\t0         \n",
      "87 \t20    \t0.213532\t0.213532 \t0.213532\t0         \n",
      "88 \t20    \t0.213532\t0.213532 \t0.213532\t0         \n",
      "89 \t20    \t0.213532\t0.213532 \t0.213532\t0         \n",
      "90 \t20    \t0.213532\t0.213532 \t0.213532\t0         \n",
      "91 \t20    \t0.213532\t0.213532 \t0.213532\t0         \n",
      "92 \t20    \t0.213532\t0.213532 \t0.213532\t0         \n",
      "93 \t20    \t0.213532\t0.213532 \t0.213532\t0         \n",
      "94 \t20    \t0.213532\t0.213532 \t0.213532\t0         \n",
      "95 \t20    \t0.213532\t0.213532 \t0.213532\t0         \n",
      "96 \t20    \t0.213532\t0.213532 \t0.213532\t0         \n",
      "97 \t20    \t0.217831\t0.213532 \t0.213747\t0.000936945\n",
      "98 \t20    \t0.217831\t0.213532 \t0.213962\t0.0012897  \n",
      "99 \t20    \t0.213532\t0.213532 \t0.213532\t0          \n",
      "100\t20    \t0.213532\t0.213532 \t0.213532\t0          \n"
     ]
    }
   ],
   "source": [
    "populacao, info = algorithms.eaSimple(population=populacao,\n",
    "                                      toolbox=toolbox,\n",
    "                                      cxpb=probabilidade_crossover,\n",
    "                                      mutpb=probabilidade_mutacao,\n",
    "                                      ngen=numero_geracoes,\n",
    "                                      stats=estatisticas)"
   ]
  },
  {
   "cell_type": "markdown",
   "id": "d742f063",
   "metadata": {},
   "source": [
    "**Adquirindo os melhores indivíduos**\n",
    "\n",
    "Que possuem as melhores soluções (cromossomos)."
   ]
  },
  {
   "cell_type": "code",
   "execution_count": 129,
   "id": "0ea30708",
   "metadata": {},
   "outputs": [
    {
     "data": {
      "text/plain": [
       "[[0, 0, 1, 1, 1, 1, 0, 1, 0, 0, 0, 1, 1, 1]]"
      ]
     },
     "execution_count": 129,
     "metadata": {},
     "output_type": "execute_result"
    }
   ],
   "source": [
    "melhores = tools.selBest(populacao, # População gerada pelo algoritmo anterior\n",
    "                         1) # Quantidade de itens que serão retornados, 1 para somente pegar o melhor indivíduo\n",
    "melhores # Retorna a melhor solução (cromossomo do indivíduo)"
   ]
  },
  {
   "cell_type": "markdown",
   "id": "5767357f",
   "metadata": {},
   "source": [
    "Visualizando os resultados"
   ]
  },
  {
   "cell_type": "code",
   "execution_count": 130,
   "id": "96a64660",
   "metadata": {},
   "outputs": [
    {
     "name": "stdout",
     "output_type": "stream",
     "text": [
      "(0.21353239999999998,)\n"
     ]
    }
   ],
   "source": [
    "for ind in melhores:\n",
    "    print(ind.fitness)"
   ]
  },
  {
   "cell_type": "code",
   "execution_count": 131,
   "id": "81ab39c8",
   "metadata": {},
   "outputs": [
    {
     "name": "stdout",
     "output_type": "stream",
     "text": [
      "Melhor combinação de produtos no caminhão:\n",
      "\n",
      "Nome: TV 55'  R$ 4346.99\n",
      "Nome: TV 50'  R$ 3999.9\n",
      "Nome: TV 42'  R$ 2999.0\n",
      "Nome: Notebook Dell R$ 2499.9\n",
      "Nome: Microondas Electrolux R$ 308.66\n",
      "Nome: Geladeira Consul R$ 1199.89\n",
      "Nome: Notebook Lenovo R$ 1999.9\n",
      "Nome: Notebook Asus R$ 3999.0\n",
      "Total R$  21353.239999999998\n"
     ]
    }
   ],
   "source": [
    "print('Melhor combinação de produtos no caminhão:\\n')\n",
    "\n",
    "soma = 0\n",
    "\n",
    "for idx, p in enumerate(lista_produtos):\n",
    "    if melhores[0][idx] == 1:\n",
    "        print(f'Nome: {p.nome} R$ {p.valor}')\n",
    "        soma += p.valor\n",
    "print('Total R$ ', soma)"
   ]
  },
  {
   "cell_type": "code",
   "execution_count": 132,
   "id": "638f3268",
   "metadata": {},
   "outputs": [
    {
     "data": {
      "text/plain": [
       "Text(0, 0.5, 'Notas R$')"
      ]
     },
     "execution_count": 132,
     "metadata": {},
     "output_type": "execute_result"
    },
    {
     "data": {
      "image/png": "[encoded data removed]",
      "text/plain": [
       "<Figure size 640x480 with 1 Axes>"
      ]
     },
     "metadata": {},
     "output_type": "display_data"
    }
   ],
   "source": [
    "valores_grafico = info.select('max')\n",
    "\n",
    "plt.title('Acompanhamento dos valores')\n",
    "plt.plot(valores_grafico)\n",
    "plt.xlabel('Gerações')\n",
    "plt.ylabel('Notas R$')"
   ]
  }
 ],
 "metadata": {
  "kernelspec": {
   "display_name": "ai_env",
   "language": "python",
   "name": "python3"
  },
  "language_info": {
   "codemirror_mode": {
    "name": "ipython",
    "version": 3
   },
   "file_extension": ".py",
   "mimetype": "text/x-python",
   "name": "python",
   "nbconvert_exporter": "python",
   "pygments_lexer": "ipython3",
   "version": "3.10.17"
  }
 },
 "nbformat": 4,
 "nbformat_minor": 5
}

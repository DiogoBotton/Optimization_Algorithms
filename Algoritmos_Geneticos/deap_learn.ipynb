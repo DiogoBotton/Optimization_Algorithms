{
 "cells": [
  {
   "cell_type": "markdown",
   "id": "11497ed8",
   "metadata": {},
   "source": [
    "## Algoritmos Genéticos com a biblioteca DEAP (Distributed Evolutionary Algorithms in Python)\n",
    "\n",
    "[Github da biblioteca Deap](https://github.com/deap/deap)\n",
    "\n",
    "Nesta biblioteca há vários outros algoritmos de otimização, no link do github acima há um readme que apresenta todos os algoritmos que são possíveis de utilizar.\n",
    "\n",
    "Iremos utilizar do mesmo contexto do arquivo *algoritmo_genetico.ipynb*, porém agora utilizando a biblioteca Deap."
   ]
  },
  {
   "cell_type": "code",
   "execution_count": 1,
   "id": "8ee86f35",
   "metadata": {},
   "outputs": [],
   "source": [
    "import random\n",
    "import numpy\n",
    "from deap import base\n",
    "from deap import creator\n",
    "from deap import algorithms\n",
    "from deap import tools\n",
    "import matplotlib.pyplot as plt"
   ]
  },
  {
   "cell_type": "markdown",
   "id": "66c00fc5",
   "metadata": {},
   "source": [
    "### Criando a classe produtos"
   ]
  },
  {
   "cell_type": "code",
   "execution_count": 2,
   "id": "167ed677",
   "metadata": {},
   "outputs": [],
   "source": [
    "class Produto():\n",
    "    def __init__(self, nome, espaco, valor):\n",
    "        self.nome = nome\n",
    "        self.espaco = espaco\n",
    "        self.valor = valor"
   ]
  },
  {
   "cell_type": "code",
   "execution_count": 3,
   "id": "36faf684",
   "metadata": {},
   "outputs": [],
   "source": [
    "lista_produtos: list[Produto] = []\n",
    "\n",
    "lista_produtos.append(Produto(\"Geladeira Dako\", 0.751, 999.90))\n",
    "lista_produtos.append(Produto(\"Iphone 6\", 0.0000899, 2911.12))\n",
    "lista_produtos.append(Produto(\"TV 55' \", 0.400, 4346.99))\n",
    "lista_produtos.append(Produto(\"TV 50' \", 0.290, 3999.90))\n",
    "lista_produtos.append(Produto(\"TV 42' \", 0.200, 2999.00))\n",
    "lista_produtos.append(Produto(\"Notebook Dell\", 0.00350, 2499.90))\n",
    "lista_produtos.append(Produto(\"Ventilador Panasonic\", 0.496, 199.90))\n",
    "lista_produtos.append(Produto(\"Microondas Electrolux\", 0.0424, 308.66))\n",
    "lista_produtos.append(Produto(\"Microondas LG\", 0.0544, 429.90))\n",
    "lista_produtos.append(Produto(\"Microondas Panasonic\", 0.0319, 299.29))\n",
    "lista_produtos.append(Produto(\"Geladeira Brastemp\", 0.635, 849.00))\n",
    "lista_produtos.append(Produto(\"Geladeira Consul\", 0.870, 1199.89))\n",
    "lista_produtos.append(Produto(\"Notebook Lenovo\", 0.498, 1999.90))\n",
    "lista_produtos.append(Produto(\"Notebook Asus\", 0.527, 3999.00))"
   ]
  },
  {
   "cell_type": "code",
   "execution_count": 4,
   "id": "c89396cc",
   "metadata": {},
   "outputs": [],
   "source": [
    "espacos = []\n",
    "valores = []\n",
    "nomes = []\n",
    "\n",
    "limite = 3\n",
    "\n",
    "for p in lista_produtos:\n",
    "    espacos.append(p.espaco)\n",
    "    valores.append(p.valor)\n",
    "    nomes.append(p.nome)"
   ]
  },
  {
   "cell_type": "markdown",
   "id": "d41feeb4",
   "metadata": {},
   "source": [
    "### Inicializando a biblioteca"
   ]
  },
  {
   "cell_type": "markdown",
   "id": "0d055951",
   "metadata": {},
   "source": [
    "**Inicialização dos recursos da biblioteca**"
   ]
  },
  {
   "cell_type": "code",
   "execution_count": 5,
   "id": "54fcf1ec",
   "metadata": {},
   "outputs": [],
   "source": [
    "toolbox = base.Toolbox()"
   ]
  },
  {
   "cell_type": "markdown",
   "id": "1076dbc4",
   "metadata": {},
   "source": [
    "A função FitnessMax irá realizar a maximização, no nosso caso, do valor dos produtos.\n",
    "\n",
    "O termo se refere ao processo de avaliação.\n",
    "\n",
    "weights=(1.0,) -> Pesos de como a função fitness irá trabalhar. \n",
    "\n",
    "Em outras palavras, aqui não teremos o valor em reais (somatório dos valores dos produtos), mas sim um valor entre 0 e 1, onde quanto mais próximo de 1 (um) melhor é a nota."
   ]
  },
  {
   "cell_type": "code",
   "execution_count": 6,
   "id": "9c7b12a6",
   "metadata": {},
   "outputs": [],
   "source": [
    "# Definindo a função de avaliação\n",
    "creator.create('FitnessMax', base.Fitness, weights=(1.0,))"
   ]
  },
  {
   "cell_type": "markdown",
   "id": "bb09b57c",
   "metadata": {},
   "source": [
    "**Criando o indivíduo**"
   ]
  },
  {
   "cell_type": "code",
   "execution_count": 7,
   "id": "e6374bca",
   "metadata": {},
   "outputs": [],
   "source": [
    "creator.create('Individual',\n",
    "               list, # Os cromossomos do indivíduo ficarão armazenados aqui\n",
    "               fitness=creator.FitnessMax)"
   ]
  },
  {
   "cell_type": "markdown",
   "id": "e6b941d6",
   "metadata": {},
   "source": [
    "Registrando como o atributo list do *Individual* será preenchido."
   ]
  },
  {
   "cell_type": "code",
   "execution_count": 8,
   "id": "b3645bc8",
   "metadata": {},
   "outputs": [],
   "source": [
    "toolbox.register('attr_bool', # Atributo booleano\n",
    "                 random.randint, # Número randomico\n",
    "                 0, 1) # Entre 0 e 1 (vai levar ou não vai levar o produto)"
   ]
  },
  {
   "cell_type": "markdown",
   "id": "274b40c5",
   "metadata": {},
   "source": [
    "Registrando a classe Individual (indivíduo)."
   ]
  },
  {
   "cell_type": "code",
   "execution_count": 9,
   "id": "f96bc8c3",
   "metadata": {},
   "outputs": [],
   "source": [
    "toolbox.register('individual',\n",
    "                 tools.initRepeat,\n",
    "                 creator.Individual,\n",
    "                 toolbox.attr_bool,\n",
    "                 n=len(espacos))"
   ]
  },
  {
   "cell_type": "markdown",
   "id": "588c3b12",
   "metadata": {},
   "source": [
    "Função para fazer a criação da população."
   ]
  },
  {
   "cell_type": "code",
   "execution_count": 10,
   "id": "1d5d5fce",
   "metadata": {},
   "outputs": [],
   "source": [
    "toolbox.register('population',\n",
    "                 tools.initRepeat,\n",
    "                 list, # Tipo de dados que vão estar as soluções\n",
    "                 toolbox.individual)"
   ]
  },
  {
   "cell_type": "markdown",
   "id": "1bede466",
   "metadata": {},
   "source": [
    "### Função de avaliação\n",
    "\n",
    "É necessário criar a função de avaliação pois a biblioteca não consegue \"adivinhar\" como realizar a avaliação dos indivíduos.\n",
    "\n",
    "É necessário realizar a divisão no retorno da nota para normalizar os resultados entre 0 e 1."
   ]
  },
  {
   "cell_type": "code",
   "execution_count": 11,
   "id": "0113c0a8",
   "metadata": {},
   "outputs": [],
   "source": [
    "def avaliacao(individual):\n",
    "    nota = 0\n",
    "    soma_espacos = 0\n",
    "    \n",
    "    for i in range(len(individual)): # Tamanho do indivíduo, nada mais é do que o cromossomo\n",
    "        if individual[i] == 1:\n",
    "            nota += valores[i] # Soma os valores de cada produto\n",
    "            soma_espacos += espacos[i] # Soma os espaços ocupados por cada produto\n",
    "    \n",
    "    if soma_espacos > limite:\n",
    "        nota = 1\n",
    "        \n",
    "    return nota / 100000, # Essa vírgula no final é necessária, pois definimos os pesos como weights=(1.0,)"
   ]
  },
  {
   "cell_type": "markdown",
   "id": "ff5324db",
   "metadata": {},
   "source": [
    "**Registrando a função de avaliação**"
   ]
  },
  {
   "cell_type": "code",
   "execution_count": 12,
   "id": "de2b6558",
   "metadata": {},
   "outputs": [],
   "source": [
    "toolbox.register('evaluate', avaliacao)"
   ]
  },
  {
   "cell_type": "markdown",
   "id": "9eb9cf51",
   "metadata": {},
   "source": [
    "**Registrando como será feito o cruzamento.**\n",
    "\n",
    "cvOnePoint: 1 ponto de corte (semelhante à implementação manual do arquivo *algoritmo_genetico.ipynb*)."
   ]
  },
  {
   "cell_type": "code",
   "execution_count": 13,
   "id": "d6222288",
   "metadata": {},
   "outputs": [],
   "source": [
    "toolbox.register('mate', tools.cxOnePoint) # cx significa crossover"
   ]
  },
  {
   "cell_type": "markdown",
   "id": "9059cc7f",
   "metadata": {},
   "source": [
    "**Registrando como será feita a mutação.**\n",
    "\n",
    "mutFlipBit: Mudança de bits, quando é 0 se transforma em 1 e vice versa."
   ]
  },
  {
   "cell_type": "code",
   "execution_count": 14,
   "id": "ed8ffc75",
   "metadata": {},
   "outputs": [],
   "source": [
    "toolbox.register('mutate',\n",
    "                 tools.mutFlipBit,\n",
    "                 indpb=0.01) # Taxa/probabilidade de mutação"
   ]
  },
  {
   "cell_type": "markdown",
   "id": "35248c57",
   "metadata": {},
   "source": [
    "**Registrando como será feita a seleção dos indivíduos para o cruzamento e mutação.**\n",
    "\n",
    "Utilizando o método da roleta viciada, assim como na implementação manual."
   ]
  },
  {
   "cell_type": "code",
   "execution_count": 15,
   "id": "daa630f4",
   "metadata": {},
   "outputs": [],
   "source": [
    "toolbox.register('select', tools.selRoulette) # Roleta viciada"
   ]
  },
  {
   "cell_type": "markdown",
   "id": "ded2f6fd",
   "metadata": {},
   "source": [
    "### Função principal"
   ]
  },
  {
   "cell_type": "markdown",
   "id": "6bcf3057",
   "metadata": {},
   "source": [
    "Criando a população.\n",
    "\n",
    "É possível acessar a classe criada anteriormente (com o toolbox.register) referenciando-a."
   ]
  },
  {
   "cell_type": "markdown",
   "id": "b1e8e3ee",
   "metadata": {},
   "source": [
    "**Seed para ter reprodutibilidade dos resultados**"
   ]
  },
  {
   "cell_type": "code",
   "execution_count": 16,
   "id": "f73fb305",
   "metadata": {},
   "outputs": [],
   "source": [
    "random.seed(487)"
   ]
  },
  {
   "cell_type": "code",
   "execution_count": 17,
   "id": "e5869698",
   "metadata": {},
   "outputs": [],
   "source": [
    "populacao = toolbox.population(n=20) # População de 20 indivíduos\n",
    "probabilidade_crossover = 1.0 # Probabilidade de 100% para crossover (cruzamento), irá sobrescrever toda a população após o crossover\n",
    "probabilidade_mutacao = 0.01\n",
    "numero_geracoes = 100\n",
    "\n",
    "# Irá utilizar os valores da função Fitness (função de avaliação)\n",
    "estatisticas = tools.Statistics(key=lambda individuo: individuo.fitness.values)\n",
    "\n",
    "# Definindo a função que pegará o valor máximo, mínimo, média e desvio padrão\n",
    "# Registrando esses valores, será mostrado no momento que o algoritmo rodar\n",
    "estatisticas.register('max', numpy.max)\n",
    "estatisticas.register('min', numpy.min)\n",
    "estatisticas.register('mean', numpy.mean)\n",
    "estatisticas.register('std', numpy.std)"
   ]
  },
  {
   "cell_type": "markdown",
   "id": "317dbc76",
   "metadata": {},
   "source": [
    "Tipo de algoritmo utilizado: eaSimple (Algoritmo genético simples)."
   ]
  },
  {
   "cell_type": "code",
   "execution_count": 18,
   "id": "76229b2b",
   "metadata": {},
   "outputs": [
    {
     "name": "stdout",
     "output_type": "stream",
     "text": [
      "gen\tnevals\tmax     \tmin  \tmean    \tstd     \n",
      "0  \t20    \t0.171439\t1e-05\t0.078515\t0.066156\n",
      "1  \t20    \t0.206465\t0.0545595\t0.125558\t0.0406552\n",
      "2  \t20    \t0.196466\t1e-05    \t0.114101\t0.0407693\n",
      "3  \t20    \t0.171087\t0.0680675\t0.122972\t0.0315358\n",
      "4  \t20    \t0.199937\t0.0680675\t0.128471\t0.033294 \n",
      "5  \t20    \t0.199937\t0.0693736\t0.145034\t0.0333342\n",
      "6  \t20    \t0.199937\t0.107356 \t0.165701\t0.0270294\n",
      "7  \t20    \t0.199937\t0.107356 \t0.162676\t0.0219319\n",
      "8  \t20    \t0.199937\t0.127355 \t0.171673\t0.0216599\n",
      "9  \t20    \t0.214937\t0.151468 \t0.183141\t0.0179121\n",
      "10 \t20    \t0.199937\t0.137365 \t0.183924\t0.0169265\n",
      "11 \t20    \t0.199937\t0.167354 \t0.189249\t0.012304 \n",
      "12 \t20    \t0.199937\t0.171467 \t0.192854\t0.00952553\n",
      "13 \t20    \t0.199937\t0.171467 \t0.190528\t0.0110879 \n",
      "14 \t20    \t0.239936\t0.156467 \t0.188375\t0.0179343 \n",
      "15 \t20    \t0.239936\t0.156467 \t0.190875\t0.0171273 \n",
      "16 \t20    \t0.239936\t0.156467 \t0.198048\t0.0178219 \n",
      "17 \t20    \t0.239936\t0.171467 \t0.198604\t0.011197  \n",
      "18 \t20    \t0.199937\t0.196466 \t0.197507\t0.00159057\n",
      "19 \t20    \t0.199937\t0.196466 \t0.197854\t0.00170039\n",
      "20 \t20    \t0.199937\t0.196466 \t0.197333\t0.00150294\n",
      "21 \t20    \t0.239936\t0.156467 \t0.197681\t0.0132897 \n",
      "22 \t20    \t0.239936\t0.196466 \t0.19968 \t0.00936809\n",
      "23 \t20    \t0.239936\t0.196466 \t0.199507\t0.00939385\n",
      "24 \t20    \t0.239936\t0.196466 \t0.19968 \t0.00936809\n",
      "25 \t20    \t0.239936\t0.196466 \t0.199507\t0.00939385\n",
      "26 \t20    \t0.239936\t0.196466 \t0.20368 \t0.0152906 \n",
      "27 \t20    \t0.239936\t0.196466 \t0.203854\t0.0152273 \n",
      "28 \t20    \t0.199937\t0.196466 \t0.19716 \t0.00138836\n",
      "29 \t20    \t0.199937\t0.196466 \t0.19716 \t0.00138836\n",
      "30 \t20    \t0.199937\t0.196466 \t0.197681\t0.00165551\n",
      "31 \t20    \t0.199937\t0.196466 \t0.19716 \t0.00138836\n",
      "32 \t20    \t0.199937\t0.196466 \t0.19716 \t0.00138836\n",
      "33 \t20    \t0.199937\t0.196466 \t0.197333\t0.00150294\n",
      "34 \t20    \t0.239936\t0.156467 \t0.19716 \t0.0132591 \n",
      "35 \t20    \t0.239936\t0.196466 \t0.198986\t0.00945161\n",
      "36 \t20    \t0.239936\t0.196466 \t0.19916 \t0.00943559\n",
      "37 \t20    \t0.239936\t0.196466 \t0.201333\t0.0129258 \n",
      "38 \t20    \t0.239936\t0.196466 \t0.20316 \t0.0154673 \n",
      "39 \t20    \t0.239936\t0.156467 \t0.20768 \t0.0228412 \n",
      "40 \t20    \t0.239936\t0.196466 \t0.202986\t0.0155219 \n",
      "41 \t20    \t0.239936\t0.196466 \t0.200813\t0.013041  \n",
      "42 \t20    \t0.239936\t0.196466 \t0.198639\t0.00947405\n",
      "43 \t20    \t0.196466\t0.196466 \t0.196466\t2.77556e-17\n",
      "44 \t20    \t0.196466\t0.196466 \t0.196466\t2.77556e-17\n",
      "45 \t20    \t0.196466\t0.196466 \t0.196466\t2.77556e-17\n",
      "46 \t20    \t0.196466\t0.196466 \t0.196466\t2.77556e-17\n",
      "47 \t20    \t0.196466\t0.196466 \t0.196466\t2.77556e-17\n",
      "48 \t20    \t0.196466\t0.196466 \t0.196466\t2.77556e-17\n",
      "49 \t20    \t0.196466\t0.196466 \t0.196466\t2.77556e-17\n",
      "50 \t20    \t0.196466\t0.196466 \t0.196466\t2.77556e-17\n",
      "51 \t20    \t0.196466\t0.196466 \t0.196466\t2.77556e-17\n",
      "52 \t20    \t0.196466\t0.196466 \t0.196466\t2.77556e-17\n",
      "53 \t20    \t0.196466\t0.196466 \t0.196466\t2.77556e-17\n",
      "54 \t20    \t0.196466\t0.196466 \t0.196466\t2.77556e-17\n",
      "55 \t20    \t0.196466\t0.196466 \t0.196466\t2.77556e-17\n",
      "56 \t20    \t0.196466\t0.196466 \t0.196466\t2.77556e-17\n",
      "57 \t20    \t0.196466\t0.196466 \t0.196466\t2.77556e-17\n",
      "58 \t20    \t0.196466\t0.196466 \t0.196466\t2.77556e-17\n",
      "59 \t20    \t0.196466\t0.196466 \t0.196466\t2.77556e-17\n",
      "60 \t20    \t0.196466\t0.196466 \t0.196466\t2.77556e-17\n",
      "61 \t20    \t0.196466\t0.196466 \t0.196466\t2.77556e-17\n",
      "62 \t20    \t0.196466\t0.196466 \t0.196466\t2.77556e-17\n",
      "63 \t20    \t0.196466\t0.196466 \t0.196466\t2.77556e-17\n",
      "64 \t20    \t0.196466\t0.196466 \t0.196466\t2.77556e-17\n",
      "65 \t20    \t0.196466\t0.196466 \t0.196466\t2.77556e-17\n",
      "66 \t20    \t0.196466\t0.196466 \t0.196466\t2.77556e-17\n",
      "67 \t20    \t0.196466\t0.196466 \t0.196466\t2.77556e-17\n",
      "68 \t20    \t0.196466\t0.196466 \t0.196466\t2.77556e-17\n",
      "69 \t20    \t0.196466\t0.196466 \t0.196466\t2.77556e-17\n",
      "70 \t20    \t0.196466\t0.166476 \t0.194966\t0.00653617 \n",
      "71 \t20    \t0.196466\t0.164477 \t0.191867\t0.0109526  \n",
      "72 \t20    \t0.196466\t0.164477 \t0.191867\t0.0109526  \n",
      "73 \t20    \t0.196466\t0.164477 \t0.191667\t0.0111568  \n",
      "74 \t20    \t0.196466\t0.164477 \t0.193816\t0.00748301 \n",
      "75 \t20    \t0.196466\t0.164477 \t0.194866\t0.00697184 \n",
      "76 \t20    \t0.196466\t0.164477 \t0.193267\t0.0095967  \n",
      "77 \t20    \t0.196466\t0.164477 \t0.193267\t0.0095967  \n",
      "78 \t20    \t0.196466\t0.164477 \t0.191667\t0.0111568  \n",
      "79 \t20    \t0.196466\t0.164477 \t0.194666\t0.00695174 \n",
      "80 \t20    \t0.196466\t0.164477 \t0.194866\t0.00697184 \n",
      "81 \t20    \t0.196466\t0.196466 \t0.196466\t2.77556e-17\n",
      "82 \t20    \t0.196466\t0.196466 \t0.196466\t2.77556e-17\n",
      "83 \t20    \t0.196466\t0.196466 \t0.196466\t2.77556e-17\n",
      "84 \t20    \t0.196466\t0.196466 \t0.196466\t2.77556e-17\n",
      "85 \t20    \t0.196466\t0.196466 \t0.196466\t2.77556e-17\n",
      "86 \t20    \t0.196466\t0.196466 \t0.196466\t2.77556e-17\n",
      "87 \t20    \t0.196466\t0.196466 \t0.196466\t2.77556e-17\n",
      "88 \t20    \t0.196466\t0.196466 \t0.196466\t2.77556e-17\n",
      "89 \t20    \t0.196466\t0.196466 \t0.196466\t2.77556e-17\n",
      "90 \t20    \t0.196466\t0.196466 \t0.196466\t2.77556e-17\n",
      "91 \t20    \t0.196466\t0.196466 \t0.196466\t2.77556e-17\n",
      "92 \t20    \t0.196466\t0.196466 \t0.196466\t2.77556e-17\n",
      "93 \t20    \t0.196466\t0.196466 \t0.196466\t2.77556e-17\n",
      "94 \t20    \t0.196466\t0.196466 \t0.196466\t2.77556e-17\n",
      "95 \t20    \t0.196466\t0.196466 \t0.196466\t2.77556e-17\n",
      "96 \t20    \t0.196466\t0.196466 \t0.196466\t2.77556e-17\n",
      "97 \t20    \t0.196466\t0.196466 \t0.196466\t2.77556e-17\n",
      "98 \t20    \t0.196466\t0.196466 \t0.196466\t2.77556e-17\n",
      "99 \t20    \t0.196466\t0.196466 \t0.196466\t2.77556e-17\n",
      "100\t20    \t0.196466\t0.196466 \t0.196466\t2.77556e-17\n"
     ]
    }
   ],
   "source": [
    "populacao, info = algorithms.eaSimple(population=populacao,\n",
    "                                      toolbox=toolbox,\n",
    "                                      cxpb=probabilidade_crossover,\n",
    "                                      mutpb=probabilidade_mutacao,\n",
    "                                      ngen=numero_geracoes,\n",
    "                                      stats=estatisticas)"
   ]
  }
 ],
 "metadata": {
  "kernelspec": {
   "display_name": "ai_env",
   "language": "python",
   "name": "python3"
  },
  "language_info": {
   "codemirror_mode": {
    "name": "ipython",
    "version": 3
   },
   "file_extension": ".py",
   "mimetype": "text/x-python",
   "name": "python",
   "nbconvert_exporter": "python",
   "pygments_lexer": "ipython3",
   "version": "3.10.17"
  }
 },
 "nbformat": 4,
 "nbformat_minor": 5
}
